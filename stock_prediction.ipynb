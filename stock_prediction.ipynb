{
  "nbformat": 4,
  "nbformat_minor": 0,
  "metadata": {
    "language_info": {
      "codemirror_mode": {
        "name": "ipython",
        "version": 2
      },
      "file_extension": ".py",
      "mimetype": "text/x-python",
      "name": "python",
      "nbconvert_exporter": "python",
      "pygments_lexer": "ipython2",
      "version": "2.7.6"
    },
    "kernelspec": {
      "name": "python3",
      "language": "python",
      "display_name": "Python 3"
    },
    "pycharm": {
      "stem_cell": {
        "cell_type": "raw",
        "source": [],
        "metadata": {
          "collapsed": false
        }
      }
    },
    "colab": {
      "name": "statistics project.ipynb",
      "provenance": [],
      "collapsed_sections": []
    },
    "accelerator": "GPU"
  },
  "cells": [
    {
      "cell_type": "code",
      "metadata": {
        "pycharm": {
          "is_executing": false
        },
        "id": "sCbmbzAsCoJw",
        "colab": {
          "base_uri": "https://localhost:8080/",
          "height": 34
        },
        "outputId": "769ff17b-e319-45f0-93c2-ecf91b53b6bc"
      },
      "source": [
        "import os\n",
        "import time\n",
        "import datetime\n",
        "from dateutil.relativedelta import relativedelta\n",
        "\n",
        "import numpy as np\n",
        "import pandas as pd\n",
        "import matplotlib.pyplot as plt\n",
        "\n",
        "from tensorflow.keras.models import Sequential\n",
        "from tensorflow.keras.layers import Dense, Dropout, Flatten, Conv1D, AveragePooling1D\n",
        "from tensorflow.keras.optimizers import Adam\n",
        "from tensorflow.keras.callbacks import TensorBoard\n",
        "\n",
        "import tensorflow as tf\n",
        "\n",
        "print(tf.__version__)\n",
        "\n",
        "if tf.test.is_gpu_available():\n",
        "    from tensorflow.keras.layers import CuDNNLSTM as LSTM, CuDNNGRU as GRU\n",
        "else:\n",
        "    print(\"GPU is not available\")\n",
        "    from tensorflow.keras.layers import LSTM, GRU\n",
        "\n",
        "DATA_DIR = \"/content/data\"\n",
        "FILE = \"NFLX.csv\"\n",
        "PATH = os.path.join(DATA_DIR, FILE)\n",
        "\n",
        "WINDOW = 100\n",
        "FEATURE_NAMES = [\"High\", \"Low\", \"Open\", \"Close\", \"Volume\", \"10ma\", \"30ma\"]\n",
        "BATCH_SIZE = 64\n",
        "EPOCHS = 20"
      ],
      "execution_count": null,
      "outputs": [
        {
          "output_type": "stream",
          "text": [
            "1.14.0\n"
          ],
          "name": "stdout"
        }
      ]
    },
    {
      "cell_type": "code",
      "metadata": {
        "id": "0QjWSs5YwSpN",
        "colab": {
          "base_uri": "https://localhost:8080/",
          "height": 235
        },
        "outputId": "fbc3b098-5bad-43ee-819e-ed1c8da051c1"
      },
      "source": [
        "# download and / or import data\n",
        "\n",
        "from pandas_datareader.data import DataReader\n",
        "\n",
        "YEARS = 5  # how many years of data to download\n",
        "NAME = \"NFLX\"\n",
        "DATA_SOURCE = \"yahoo\"\n",
        "\n",
        "if os.path.exists(PATH):\n",
        "    df = pd.read_csv(PATH)\n",
        "    df.set_index(\"Date\", inplace=True)\n",
        "else:\n",
        "    dt = datetime.datetime.now()\n",
        "    df = DataReader(NAME, DATA_SOURCE, start=dt-relativedelta(years=YEARS), end=dt)\n",
        "\n",
        "    if not os.path.isdir(DATA_DIR):\n",
        "        os.makedirs(DATA_DIR)\n",
        "    df.to_csv(PATH)\n",
        "\n",
        "df.head()"
      ],
      "execution_count": null,
      "outputs": [
        {
          "output_type": "execute_result",
          "data": {
            "text/html": [
              "<div>\n",
              "<style scoped>\n",
              "    .dataframe tbody tr th:only-of-type {\n",
              "        vertical-align: middle;\n",
              "    }\n",
              "\n",
              "    .dataframe tbody tr th {\n",
              "        vertical-align: top;\n",
              "    }\n",
              "\n",
              "    .dataframe thead th {\n",
              "        text-align: right;\n",
              "    }\n",
              "</style>\n",
              "<table border=\"1\" class=\"dataframe\">\n",
              "  <thead>\n",
              "    <tr style=\"text-align: right;\">\n",
              "      <th></th>\n",
              "      <th>High</th>\n",
              "      <th>Low</th>\n",
              "      <th>Open</th>\n",
              "      <th>Close</th>\n",
              "      <th>Volume</th>\n",
              "      <th>Adj Close</th>\n",
              "    </tr>\n",
              "    <tr>\n",
              "      <th>Date</th>\n",
              "      <th></th>\n",
              "      <th></th>\n",
              "      <th></th>\n",
              "      <th></th>\n",
              "      <th></th>\n",
              "      <th></th>\n",
              "    </tr>\n",
              "  </thead>\n",
              "  <tbody>\n",
              "    <tr>\n",
              "      <th>2014-09-22</th>\n",
              "      <td>65.278572</td>\n",
              "      <td>62.697144</td>\n",
              "      <td>65.181427</td>\n",
              "      <td>63.254284</td>\n",
              "      <td>16169300.0</td>\n",
              "      <td>63.254284</td>\n",
              "    </tr>\n",
              "    <tr>\n",
              "      <th>2014-09-23</th>\n",
              "      <td>64.001427</td>\n",
              "      <td>62.928570</td>\n",
              "      <td>63.032856</td>\n",
              "      <td>63.414288</td>\n",
              "      <td>11471600.0</td>\n",
              "      <td>63.414288</td>\n",
              "    </tr>\n",
              "    <tr>\n",
              "      <th>2014-09-24</th>\n",
              "      <td>64.522858</td>\n",
              "      <td>63.220001</td>\n",
              "      <td>63.494286</td>\n",
              "      <td>64.365715</td>\n",
              "      <td>9551500.0</td>\n",
              "      <td>64.365715</td>\n",
              "    </tr>\n",
              "    <tr>\n",
              "      <th>2014-09-25</th>\n",
              "      <td>64.621429</td>\n",
              "      <td>63.202858</td>\n",
              "      <td>64.271431</td>\n",
              "      <td>63.355713</td>\n",
              "      <td>9839900.0</td>\n",
              "      <td>63.355713</td>\n",
              "    </tr>\n",
              "    <tr>\n",
              "      <th>2014-09-26</th>\n",
              "      <td>64.377144</td>\n",
              "      <td>63.412857</td>\n",
              "      <td>63.571430</td>\n",
              "      <td>64.107140</td>\n",
              "      <td>10404800.0</td>\n",
              "      <td>64.107140</td>\n",
              "    </tr>\n",
              "  </tbody>\n",
              "</table>\n",
              "</div>"
            ],
            "text/plain": [
              "                 High        Low       Open      Close      Volume  Adj Close\n",
              "Date                                                                         \n",
              "2014-09-22  65.278572  62.697144  65.181427  63.254284  16169300.0  63.254284\n",
              "2014-09-23  64.001427  62.928570  63.032856  63.414288  11471600.0  63.414288\n",
              "2014-09-24  64.522858  63.220001  63.494286  64.365715   9551500.0  64.365715\n",
              "2014-09-25  64.621429  63.202858  64.271431  63.355713   9839900.0  63.355713\n",
              "2014-09-26  64.377144  63.412857  63.571430  64.107140  10404800.0  64.107140"
            ]
          },
          "metadata": {
            "tags": []
          },
          "execution_count": 30
        }
      ]
    },
    {
      "cell_type": "code",
      "metadata": {
        "pycharm": {
          "name": "#%%\n",
          "is_executing": false
        },
        "id": "0SzjdtRKCoJ3",
        "colab": {
          "base_uri": "https://localhost:8080/",
          "height": 204
        },
        "outputId": "9afc6efa-b434-4e76-db1c-693d398e0a48"
      },
      "source": [
        "# preprocessing pipeline\n",
        "\n",
        "from sklearn.base import BaseEstimator, TransformerMixin\n",
        "\n",
        "class FeatureUpdater(BaseEstimator, TransformerMixin):\n",
        "\n",
        "    def fit(self, X, y=None):\n",
        "        return self\n",
        "\n",
        "    def transform(self, X, y=None):\n",
        "        assert isinstance(X, pd.DataFrame)\n",
        "        assert \"Close\" in X.columns\n",
        "\n",
        "        if \"Adj Close\" in X.columns:\n",
        "            X_copy = X.drop(\"Adj Close\", axis=1)\n",
        "        else:\n",
        "            X_copy = X.copy()\n",
        "        X_copy[\"10ma\"] = X_copy[\"Close\"].rolling(window=10).mean()\n",
        "        X_copy[\"30ma\"] = X_copy[\"Close\"].rolling(window=30).mean()\n",
        "\n",
        "        return X_copy\n",
        "\n",
        "class NanDropper(BaseEstimator, TransformerMixin):\n",
        "\n",
        "    def fit(self, X, y=None):\n",
        "        return self\n",
        "\n",
        "    def transform(self, X, y=None):\n",
        "        if isinstance(X, pd.DataFrame):\n",
        "            return X.dropna(axis=0)\n",
        "        return pd.DataFrame(X).dropna(axis=0)\n",
        "\n",
        "from sklearn.pipeline import Pipeline\n",
        "from sklearn.preprocessing import MinMaxScaler\n",
        "\n",
        "pipeline = Pipeline([\n",
        "    (\"feature_updater\", FeatureUpdater()),\n",
        "    (\"nan_dropper\", NanDropper()),\n",
        "    (\"scaler\", MinMaxScaler())\n",
        "])\n",
        "\n",
        "df_tr = pd.DataFrame(pipeline.fit_transform(df), columns=FEATURE_NAMES)\n",
        "\n",
        "df_tr.head()"
      ],
      "execution_count": null,
      "outputs": [
        {
          "output_type": "execute_result",
          "data": {
            "text/html": [
              "<div>\n",
              "<style scoped>\n",
              "    .dataframe tbody tr th:only-of-type {\n",
              "        vertical-align: middle;\n",
              "    }\n",
              "\n",
              "    .dataframe tbody tr th {\n",
              "        vertical-align: top;\n",
              "    }\n",
              "\n",
              "    .dataframe thead th {\n",
              "        text-align: right;\n",
              "    }\n",
              "</style>\n",
              "<table border=\"1\" class=\"dataframe\">\n",
              "  <thead>\n",
              "    <tr style=\"text-align: right;\">\n",
              "      <th></th>\n",
              "      <th>High</th>\n",
              "      <th>Low</th>\n",
              "      <th>Open</th>\n",
              "      <th>Close</th>\n",
              "      <th>Volume</th>\n",
              "      <th>10ma</th>\n",
              "      <th>30ma</th>\n",
              "    </tr>\n",
              "  </thead>\n",
              "  <tbody>\n",
              "    <tr>\n",
              "      <th>0</th>\n",
              "      <td>0.025150</td>\n",
              "      <td>0.026576</td>\n",
              "      <td>0.025368</td>\n",
              "      <td>0.029174</td>\n",
              "      <td>0.183252</td>\n",
              "      <td>0.020205</td>\n",
              "      <td>0.035485</td>\n",
              "    </tr>\n",
              "    <tr>\n",
              "      <th>1</th>\n",
              "      <td>0.025814</td>\n",
              "      <td>0.027007</td>\n",
              "      <td>0.028723</td>\n",
              "      <td>0.027508</td>\n",
              "      <td>0.155173</td>\n",
              "      <td>0.021367</td>\n",
              "      <td>0.034735</td>\n",
              "    </tr>\n",
              "    <tr>\n",
              "      <th>2</th>\n",
              "      <td>0.022676</td>\n",
              "      <td>0.024546</td>\n",
              "      <td>0.026326</td>\n",
              "      <td>0.025356</td>\n",
              "      <td>0.094994</td>\n",
              "      <td>0.022035</td>\n",
              "      <td>0.033892</td>\n",
              "    </tr>\n",
              "    <tr>\n",
              "      <th>3</th>\n",
              "      <td>0.022900</td>\n",
              "      <td>0.023622</td>\n",
              "      <td>0.025828</td>\n",
              "      <td>0.024439</td>\n",
              "      <td>0.116922</td>\n",
              "      <td>0.022263</td>\n",
              "      <td>0.032924</td>\n",
              "    </tr>\n",
              "    <tr>\n",
              "      <th>4</th>\n",
              "      <td>0.021947</td>\n",
              "      <td>0.023994</td>\n",
              "      <td>0.022937</td>\n",
              "      <td>0.025555</td>\n",
              "      <td>0.081407</td>\n",
              "      <td>0.022273</td>\n",
              "      <td>0.032094</td>\n",
              "    </tr>\n",
              "  </tbody>\n",
              "</table>\n",
              "</div>"
            ],
            "text/plain": [
              "       High       Low      Open     Close    Volume      10ma      30ma\n",
              "0  0.025150  0.026576  0.025368  0.029174  0.183252  0.020205  0.035485\n",
              "1  0.025814  0.027007  0.028723  0.027508  0.155173  0.021367  0.034735\n",
              "2  0.022676  0.024546  0.026326  0.025356  0.094994  0.022035  0.033892\n",
              "3  0.022900  0.023622  0.025828  0.024439  0.116922  0.022263  0.032924\n",
              "4  0.021947  0.023994  0.022937  0.025555  0.081407  0.022273  0.032094"
            ]
          },
          "metadata": {
            "tags": []
          },
          "execution_count": 31
        }
      ]
    },
    {
      "cell_type": "code",
      "metadata": {
        "pycharm": {
          "name": "#%%\n",
          "is_executing": false
        },
        "id": "_8rA8e4pCoJ1",
        "colab": {
          "base_uri": "https://localhost:8080/",
          "height": 269
        },
        "outputId": "97944f82-5a3a-4c00-b99a-0212b2df8b83"
      },
      "source": [
        "# plot data\n",
        "\n",
        "def plot_data(df):\n",
        "    ax1 = plt.subplot2grid(shape=(6, 1), loc=(0, 0), rowspan=5)\n",
        "    ax2 = plt.subplot2grid(shape=(6, 1), loc=(5, 0), sharex=ax1)\n",
        "\n",
        "    df.plot(y=[\"High\", \"Low\", \"Open\", \"Close\", \"10ma\", \"30ma\"], ax=ax1)\n",
        "    df.plot(y=\"Volume\", ax=ax2, title=\"Volume\")\n",
        "\n",
        "    plt.show()\n",
        "\n",
        "plot_data(df_tr)"
      ],
      "execution_count": null,
      "outputs": [
        {
          "output_type": "display_data",
          "data": {
            "image/png": "[encoded data removed]",
            "text/plain": [
              "<Figure size 432x288 with 2 Axes>"
            ]
          },
          "metadata": {
            "tags": []
          }
        }
      ]
    },
    {
      "cell_type": "code",
      "metadata": {
        "id": "15GQNKjkU609",
        "colab": {
          "base_uri": "https://localhost:8080/",
          "height": 119
        },
        "outputId": "f77b4985-aea2-4d54-a77d-34aa761c8fea"
      },
      "source": [
        "# split data into training, validation and test sets\n",
        "\n",
        "\"\"\"\n",
        "from sklearn.model_selection import train_test_split\n",
        "\n",
        "train_X, test_X, train_y, test_y = train_test_split(X, y, test_size=TEST_RATIO)\n",
        "train_X, val_X, train_y, val_y = train_test_split(train_X, train_y, test_size=VALIDATION_RATIO)\n",
        "\"\"\"\n",
        "\n",
        "TRAIN_RATIO = 0.7\n",
        "VALIDATION_RATIO = 0.15\n",
        "\n",
        "def split_input_output(df, target_feature=\"Open\"):\n",
        "    if not isinstance(df, pd.DataFrame):\n",
        "        df = pd.DataFrame(df, columns=FEATURE_NAMES)\n",
        "    X = np.array([df.iloc[i : i + WINDOW, :].values for i in range(len(df) - WINDOW)])\n",
        "    y = np.expand_dims(df[target_feature][WINDOW:].values, axis=1)\n",
        "    return X, y\n",
        "\n",
        "def split_train_val_test(X, y):\n",
        "    assert X.shape[0] == y.shape[0]\n",
        "\n",
        "    train_val_split = int(TRAIN_RATIO * X.shape[0])\n",
        "    val_test_split = int((TRAIN_RATIO + VALIDATION_RATIO) * X.shape[0])\n",
        "\n",
        "    train_X = X[:train_val_split]\n",
        "    train_y = y[:train_val_split]\n",
        "    val_X = X[train_val_split : val_test_split]\n",
        "    val_y = y[train_val_split : val_test_split]\n",
        "    test_X = X[val_test_split:]\n",
        "    test_y = y[val_test_split:]\n",
        "\n",
        "    return train_X, train_y, val_X, val_y, test_X, test_y\n",
        "\n",
        "X, y = split_input_output(df_tr)\n",
        "train_X, train_y, val_X, val_y, test_X, test_y = split_train_val_test(X, y)\n",
        "\n",
        "print(\"Training input shape: \", train_X.shape)\n",
        "print(\"Training output shape: \", train_y.shape)\n",
        "print(\"Validation input shape: \", val_X.shape)\n",
        "print(\"Validation ouput shape: \", val_y.shape)\n",
        "print(\"Test input shape: \", test_X.shape)\n",
        "print(\"Test output shape: \", test_y.shape)"
      ],
      "execution_count": null,
      "outputs": [
        {
          "output_type": "stream",
          "text": [
            "Training input shape:  (791, 100, 7)\n",
            "Training output shape:  (791, 1)\n",
            "Validation input shape:  (169, 100, 7)\n",
            "Validation ouput shape:  (169, 1)\n",
            "Test input shape:  (170, 100, 7)\n",
            "Test output shape:  (170, 1)\n"
          ],
          "name": "stdout"
        }
      ]
    },
    {
      "cell_type": "code",
      "metadata": {
        "id": "tqm-eMs8U-L6"
      },
      "source": [
        "# the models and tensorboard logs will be saved to the following folders\n",
        "\n",
        "LOG_DIR = \"/content/logs\"\n",
        "MODEL_DIR = \"/content/models\"\n",
        "\n",
        "if not os.path.isdir(LOG_DIR):\n",
        "    os.makedirs(LOG_DIR)\n",
        "\n",
        "if not os.path.isdir(MODEL_DIR):\n",
        "    os.makedirs(MODEL_DIR)"
      ],
      "execution_count": null,
      "outputs": []
    },
    {
      "cell_type": "code",
      "metadata": {
        "pycharm": {
          "name": "#%%\n",
          "is_executing": false
        },
        "id": "9NKIqd-6Rb20",
        "colab": {
          "base_uri": "https://localhost:8080/",
          "height": 1000
        },
        "outputId": "8b4d5f59-4717-4dec-e6b7-f31ac05b751c"
      },
      "source": [
        "# feedforward neural network\n",
        "\n",
        "name_ffnn = \"FFNN-\" + str(int(time.time()))\n",
        "\n",
        "model_ffnn = Sequential([\n",
        "    Flatten(input_shape=train_X.shape[1:]),\n",
        "    Dense(128, activation=\"relu\"),\n",
        "    Dense(64, activation=\"relu\"),\n",
        "    Dense(32, activation=\"relu\"),\n",
        "    Dense(16, activation=\"relu\"),\n",
        "    Dense(1)\n",
        "])\n",
        "model_ffnn.compile(optimizer=\"adam\", loss=\"mse\")\n",
        "\n",
        "model_ffnn.summary()\n",
        "\n",
        "history_ffnn = model_ffnn.fit(train_X, train_y, validation_data=(val_X, val_y), batch_size=BATCH_SIZE, epochs=EPOCHS, callbacks=[TensorBoard(log_dir=os.path.join(LOG_DIR, name_ffnn))])\n",
        "\n",
        "model_ffnn.evaluate(test_X, test_y)\n",
        "\n",
        "model_ffnn.save(os.path.join(MODEL_DIR, name_ffnn + \".h5\"))"
      ],
      "execution_count": null,
      "outputs": [
        {
          "output_type": "stream",
          "text": [
            "WARNING:tensorflow:From /usr/local/lib/python3.6/dist-packages/tensorflow/python/ops/init_ops.py:1251: calling VarianceScaling.__init__ (from tensorflow.python.ops.init_ops) with dtype is deprecated and will be removed in a future version.\n",
            "Instructions for updating:\n",
            "Call initializer instance with the dtype argument instead of passing it to the constructor\n",
            "Model: \"sequential\"\n",
            "_________________________________________________________________\n",
            "Layer (type)                 Output Shape              Param #   \n",
            "=================================================================\n",
            "flatten (Flatten)            (None, 700)               0         \n",
            "_________________________________________________________________\n",
            "dense (Dense)                (None, 128)               89728     \n",
            "_________________________________________________________________\n",
            "dense_1 (Dense)              (None, 64)                8256      \n",
            "_________________________________________________________________\n",
            "dense_2 (Dense)              (None, 32)                2080      \n",
            "_________________________________________________________________\n",
            "dense_3 (Dense)              (None, 16)                528       \n",
            "_________________________________________________________________\n",
            "dense_4 (Dense)              (None, 1)                 17        \n",
            "=================================================================\n",
            "Total params: 100,609\n",
            "Trainable params: 100,609\n",
            "Non-trainable params: 0\n",
            "_________________________________________________________________\n",
            "Train on 791 samples, validate on 169 samples\n",
            "Epoch 1/20\n",
            " 64/791 [=>............................] - ETA: 34s - loss: 0.2721WARNING:tensorflow:Method (on_train_batch_end) is slow compared to the batch update (0.104016). Check your callbacks.\n",
            "791/791 [==============================] - 3s 4ms/sample - loss: 0.0288 - val_loss: 0.0280\n",
            "Epoch 2/20\n",
            "791/791 [==============================] - 0s 62us/sample - loss: 0.0017 - val_loss: 0.0139\n",
            "Epoch 3/20\n",
            "791/791 [==============================] - 0s 57us/sample - loss: 0.0014 - val_loss: 0.0264\n",
            "Epoch 4/20\n",
            "791/791 [==============================] - 0s 60us/sample - loss: 9.0126e-04 - val_loss: 0.0197\n",
            "Epoch 5/20\n",
            "791/791 [==============================] - 0s 59us/sample - loss: 8.3629e-04 - val_loss: 0.0069\n",
            "Epoch 6/20\n",
            "791/791 [==============================] - 0s 57us/sample - loss: 6.8322e-04 - val_loss: 0.0114\n",
            "Epoch 7/20\n",
            "791/791 [==============================] - 0s 58us/sample - loss: 5.4880e-04 - val_loss: 0.0065\n",
            "Epoch 8/20\n",
            "791/791 [==============================] - 0s 54us/sample - loss: 6.5188e-04 - val_loss: 0.0156\n",
            "Epoch 9/20\n",
            "791/791 [==============================] - 0s 65us/sample - loss: 7.8418e-04 - val_loss: 0.0186\n",
            "Epoch 10/20\n",
            "791/791 [==============================] - 0s 57us/sample - loss: 7.3360e-04 - val_loss: 0.0071\n",
            "Epoch 11/20\n",
            "791/791 [==============================] - 0s 57us/sample - loss: 4.5494e-04 - val_loss: 0.0050\n",
            "Epoch 12/20\n",
            "791/791 [==============================] - 0s 55us/sample - loss: 4.8384e-04 - val_loss: 0.0082\n",
            "Epoch 13/20\n",
            "791/791 [==============================] - 0s 57us/sample - loss: 3.7052e-04 - val_loss: 0.0047\n",
            "Epoch 14/20\n",
            "791/791 [==============================] - 0s 58us/sample - loss: 3.7644e-04 - val_loss: 0.0083\n",
            "Epoch 15/20\n",
            "791/791 [==============================] - 0s 70us/sample - loss: 4.5082e-04 - val_loss: 0.0065\n",
            "Epoch 16/20\n",
            "791/791 [==============================] - 0s 72us/sample - loss: 3.3785e-04 - val_loss: 0.0041\n",
            "Epoch 17/20\n",
            "791/791 [==============================] - 0s 62us/sample - loss: 3.7349e-04 - val_loss: 0.0060\n",
            "Epoch 18/20\n",
            "791/791 [==============================] - 0s 59us/sample - loss: 3.8623e-04 - val_loss: 0.0047\n",
            "Epoch 19/20\n",
            "791/791 [==============================] - 0s 60us/sample - loss: 4.6347e-04 - val_loss: 0.0071\n",
            "Epoch 20/20\n",
            "791/791 [==============================] - 0s 56us/sample - loss: 4.9343e-04 - val_loss: 0.0101\n",
            "170/170 [==============================] - 0s 68us/sample - loss: 0.0085\n"
          ],
          "name": "stdout"
        }
      ]
    },
    {
      "cell_type": "code",
      "metadata": {
        "id": "_pk5ECeoiFdU",
        "pycharm": {
          "is_executing": false
        },
        "colab": {
          "base_uri": "https://localhost:8080/",
          "height": 1000
        },
        "outputId": "6b1c00c4-67ef-41cd-ce2b-4d51011b6924"
      },
      "source": [
        "# lstm\n",
        "\n",
        "name_lstm = \"LSTM-\" + str(int(time.time()))\n",
        "\n",
        "model_lstm = Sequential([\n",
        "    LSTM(128, return_sequences=True, input_shape=(None, train_X.shape[2])),  # accept input of arbitary length\n",
        "    Dropout(0.2),\n",
        "    \n",
        "    LSTM(128, return_sequences=True),\n",
        "    Dropout(0.2),\n",
        "    \n",
        "    LSTM(128),\n",
        "    Dropout(0.2),\n",
        "    \n",
        "    Flatten(),\n",
        "\n",
        "    Dense(64),\n",
        "    Dropout(0.2),\n",
        "\n",
        "    Dense(1)\n",
        "])\n",
        "model_lstm.compile(optimizer=Adam(lr=0.001, decay=1e-6), loss=\"mse\")\n",
        "\n",
        "model_lstm.summary()\n",
        "\n",
        "history_lstm = model_lstm.fit(train_X, train_y, validation_data=(val_X, val_y), batch_size=BATCH_SIZE, epochs=EPOCHS, callbacks=[TensorBoard(log_dir=os.path.join(LOG_DIR, name_lstm))])\n",
        "\n",
        "model_lstm.evaluate(test_X, test_y)\n",
        "\n",
        "model_lstm.save(os.path.join(MODEL_DIR, name_lstm + \".h5\"))"
      ],
      "execution_count": null,
      "outputs": [
        {
          "output_type": "stream",
          "text": [
            "Model: \"sequential_1\"\n",
            "_________________________________________________________________\n",
            "Layer (type)                 Output Shape              Param #   \n",
            "=================================================================\n",
            "cu_dnnlstm (CuDNNLSTM)       (None, None, 128)         70144     \n",
            "_________________________________________________________________\n",
            "dropout (Dropout)            (None, None, 128)         0         \n",
            "_________________________________________________________________\n",
            "cu_dnnlstm_1 (CuDNNLSTM)     (None, None, 128)         132096    \n",
            "_________________________________________________________________\n",
            "dropout_1 (Dropout)          (None, None, 128)         0         \n",
            "_________________________________________________________________\n",
            "cu_dnnlstm_2 (CuDNNLSTM)     (None, 128)               132096    \n",
            "_________________________________________________________________\n",
            "dropout_2 (Dropout)          (None, 128)               0         \n",
            "_________________________________________________________________\n",
            "flatten_1 (Flatten)          (None, 128)               0         \n",
            "_________________________________________________________________\n",
            "dense_5 (Dense)              (None, 64)                8256      \n",
            "_________________________________________________________________\n",
            "dropout_3 (Dropout)          (None, 64)                0         \n",
            "_________________________________________________________________\n",
            "dense_6 (Dense)              (None, 1)                 65        \n",
            "=================================================================\n",
            "Total params: 342,657\n",
            "Trainable params: 342,657\n",
            "Non-trainable params: 0\n",
            "_________________________________________________________________\n",
            "Train on 791 samples, validate on 169 samples\n",
            "Epoch 1/20\n",
            "791/791 [==============================] - 4s 5ms/sample - loss: 0.0100 - val_loss: 0.0051\n",
            "Epoch 2/20\n",
            "791/791 [==============================] - 0s 370us/sample - loss: 0.0028 - val_loss: 0.0051\n",
            "Epoch 3/20\n",
            "791/791 [==============================] - 0s 381us/sample - loss: 0.0022 - val_loss: 0.0049\n",
            "Epoch 4/20\n",
            "791/791 [==============================] - 0s 369us/sample - loss: 0.0020 - val_loss: 0.0063\n",
            "Epoch 5/20\n",
            "791/791 [==============================] - 0s 368us/sample - loss: 0.0021 - val_loss: 0.0062\n",
            "Epoch 6/20\n",
            "791/791 [==============================] - 0s 371us/sample - loss: 0.0015 - val_loss: 0.0055\n",
            "Epoch 7/20\n",
            "791/791 [==============================] - 0s 373us/sample - loss: 0.0020 - val_loss: 0.0070\n",
            "Epoch 8/20\n",
            "791/791 [==============================] - 0s 376us/sample - loss: 0.0018 - val_loss: 0.0095\n",
            "Epoch 9/20\n",
            "791/791 [==============================] - 0s 361us/sample - loss: 0.0023 - val_loss: 0.0100\n",
            "Epoch 10/20\n",
            "791/791 [==============================] - 0s 381us/sample - loss: 0.0024 - val_loss: 0.0046\n",
            "Epoch 11/20\n",
            "791/791 [==============================] - 0s 365us/sample - loss: 0.0019 - val_loss: 0.0052\n",
            "Epoch 12/20\n",
            "791/791 [==============================] - 0s 369us/sample - loss: 0.0018 - val_loss: 0.0045\n",
            "Epoch 13/20\n",
            "791/791 [==============================] - 0s 378us/sample - loss: 0.0016 - val_loss: 0.0114\n",
            "Epoch 14/20\n",
            "791/791 [==============================] - 0s 376us/sample - loss: 0.0017 - val_loss: 0.0040\n",
            "Epoch 15/20\n",
            "791/791 [==============================] - 0s 370us/sample - loss: 0.0014 - val_loss: 0.0052\n",
            "Epoch 16/20\n",
            "791/791 [==============================] - 0s 364us/sample - loss: 0.0017 - val_loss: 0.0089\n",
            "Epoch 17/20\n",
            "791/791 [==============================] - 0s 372us/sample - loss: 0.0021 - val_loss: 0.0080\n",
            "Epoch 18/20\n",
            "791/791 [==============================] - 0s 367us/sample - loss: 0.0017 - val_loss: 0.0109\n",
            "Epoch 19/20\n",
            "791/791 [==============================] - 0s 374us/sample - loss: 0.0014 - val_loss: 0.0041\n",
            "Epoch 20/20\n",
            "791/791 [==============================] - 0s 371us/sample - loss: 0.0013 - val_loss: 0.0038\n",
            "170/170 [==============================] - 0s 315us/sample - loss: 0.0017\n"
          ],
          "name": "stdout"
        }
      ]
    },
    {
      "cell_type": "code",
      "metadata": {
        "pycharm": {
          "name": "#%%\n"
        },
        "id": "nGOKedoDhy5J",
        "colab": {
          "base_uri": "https://localhost:8080/",
          "height": 1000
        },
        "outputId": "6ac502a1-1099-422a-95db-726c6adfd20d"
      },
      "source": [
        "# gru\n",
        "\n",
        "name_gru = \"GRU-\" + str(int(time.time()))\n",
        "\n",
        "model_gru = Sequential([\n",
        "    GRU(128, return_sequences=True, input_shape=(None, train_X.shape[2])),  # accept input of arbitary length\n",
        "    Dropout(0.2),\n",
        "    \n",
        "    GRU(128, return_sequences=True),\n",
        "    Dropout(0.2),\n",
        "    \n",
        "    GRU(128),\n",
        "    Dropout(0.2),\n",
        "    \n",
        "    Flatten(),\n",
        "\n",
        "    Dense(64),\n",
        "    Dropout(0.2),\n",
        "\n",
        "    Dense(1)\n",
        "])\n",
        "model_gru.compile(optimizer=Adam(lr=0.001, decay=1e-6), loss=\"mse\")\n",
        "\n",
        "model_gru.summary()\n",
        "\n",
        "history_gru = model_gru.fit(train_X, train_y, validation_data=(val_X, val_y), batch_size=BATCH_SIZE, epochs=EPOCHS, callbacks=[TensorBoard(log_dir=os.path.join(LOG_DIR, name_gru))])\n",
        "\n",
        "model_gru.evaluate(test_X, test_y)\n",
        "\n",
        "model_gru.save(os.path.join(MODEL_DIR, name_gru + \".h5\"))"
      ],
      "execution_count": null,
      "outputs": [
        {
          "output_type": "stream",
          "text": [
            "Model: \"sequential_2\"\n",
            "_________________________________________________________________\n",
            "Layer (type)                 Output Shape              Param #   \n",
            "=================================================================\n",
            "cu_dnngru (CuDNNGRU)         (None, None, 128)         52608     \n",
            "_________________________________________________________________\n",
            "dropout_4 (Dropout)          (None, None, 128)         0         \n",
            "_________________________________________________________________\n",
            "cu_dnngru_1 (CuDNNGRU)       (None, None, 128)         99072     \n",
            "_________________________________________________________________\n",
            "dropout_5 (Dropout)          (None, None, 128)         0         \n",
            "_________________________________________________________________\n",
            "cu_dnngru_2 (CuDNNGRU)       (None, 128)               99072     \n",
            "_________________________________________________________________\n",
            "dropout_6 (Dropout)          (None, 128)               0         \n",
            "_________________________________________________________________\n",
            "flatten_2 (Flatten)          (None, 128)               0         \n",
            "_________________________________________________________________\n",
            "dense_7 (Dense)              (None, 64)                8256      \n",
            "_________________________________________________________________\n",
            "dropout_7 (Dropout)          (None, 64)                0         \n",
            "_________________________________________________________________\n",
            "dense_8 (Dense)              (None, 1)                 65        \n",
            "=================================================================\n",
            "Total params: 259,073\n",
            "Trainable params: 259,073\n",
            "Non-trainable params: 0\n",
            "_________________________________________________________________\n",
            "Train on 791 samples, validate on 169 samples\n",
            "Epoch 1/20\n",
            "791/791 [==============================] - 1s 1ms/sample - loss: 0.0174 - val_loss: 0.0090\n",
            "Epoch 2/20\n",
            "791/791 [==============================] - 0s 361us/sample - loss: 0.0039 - val_loss: 0.0053\n",
            "Epoch 3/20\n",
            "791/791 [==============================] - 0s 332us/sample - loss: 0.0027 - val_loss: 0.0038\n",
            "Epoch 4/20\n",
            "791/791 [==============================] - 0s 335us/sample - loss: 0.0022 - val_loss: 0.0023\n",
            "Epoch 5/20\n",
            "791/791 [==============================] - 0s 330us/sample - loss: 0.0020 - val_loss: 0.0028\n",
            "Epoch 6/20\n",
            "791/791 [==============================] - 0s 335us/sample - loss: 0.0018 - val_loss: 0.0022\n",
            "Epoch 7/20\n",
            "791/791 [==============================] - 0s 334us/sample - loss: 0.0016 - val_loss: 0.0024\n",
            "Epoch 8/20\n",
            "791/791 [==============================] - 0s 331us/sample - loss: 0.0015 - val_loss: 0.0020\n",
            "Epoch 9/20\n",
            "791/791 [==============================] - 0s 330us/sample - loss: 0.0015 - val_loss: 0.0018\n",
            "Epoch 10/20\n",
            "791/791 [==============================] - 0s 349us/sample - loss: 0.0016 - val_loss: 0.0017\n",
            "Epoch 11/20\n",
            "791/791 [==============================] - 0s 332us/sample - loss: 0.0013 - val_loss: 0.0037\n",
            "Epoch 12/20\n",
            "791/791 [==============================] - 0s 333us/sample - loss: 0.0016 - val_loss: 0.0086\n",
            "Epoch 13/20\n",
            "791/791 [==============================] - 0s 335us/sample - loss: 0.0018 - val_loss: 0.0018\n",
            "Epoch 14/20\n",
            "791/791 [==============================] - 0s 334us/sample - loss: 0.0014 - val_loss: 0.0019\n",
            "Epoch 15/20\n",
            "791/791 [==============================] - 0s 334us/sample - loss: 0.0014 - val_loss: 0.0040\n",
            "Epoch 16/20\n",
            "791/791 [==============================] - 0s 341us/sample - loss: 0.0013 - val_loss: 0.0035\n",
            "Epoch 17/20\n",
            "791/791 [==============================] - 0s 350us/sample - loss: 0.0013 - val_loss: 0.0033\n",
            "Epoch 18/20\n",
            "791/791 [==============================] - 0s 326us/sample - loss: 0.0014 - val_loss: 0.0015\n",
            "Epoch 19/20\n",
            "791/791 [==============================] - 0s 329us/sample - loss: 0.0011 - val_loss: 0.0023\n",
            "Epoch 20/20\n",
            "791/791 [==============================] - 0s 333us/sample - loss: 0.0011 - val_loss: 0.0028\n",
            "170/170 [==============================] - 0s 296us/sample - loss: 0.0019\n"
          ],
          "name": "stdout"
        }
      ]
    },
    {
      "cell_type": "code",
      "metadata": {
        "id": "8x4vMfgtv-Kz",
        "colab": {
          "base_uri": "https://localhost:8080/",
          "height": 1000
        },
        "outputId": "177c088f-0e8c-45cf-a0d6-bf74f56a4093"
      },
      "source": [
        "# 1d cnn\n",
        "\n",
        "name_cnn = \"CNN-\" + str(int(time.time()))\n",
        "\n",
        "model_cnn = Sequential([\n",
        "    Conv1D(128, 2, use_bias=True, activation=\"relu\", kernel_initializer=\"VarianceScaling\", input_shape=train_X.shape[1:]),\n",
        "    AveragePooling1D(strides=1),\n",
        "\n",
        "    Conv1D(64, 2, use_bias=True, activation=\"relu\", kernel_initializer=\"VarianceScaling\"),\n",
        "    AveragePooling1D(strides=1),\n",
        "\n",
        "    Conv1D(32, 2, use_bias=True, activation=\"relu\", kernel_initializer=\"VarianceScaling\"),\n",
        "    AveragePooling1D(strides=1),\n",
        "\n",
        "    Flatten(),\n",
        "\n",
        "    Dense(256, activation=\"relu\"),\n",
        "    Dense(1)\n",
        "])\n",
        "model_cnn.compile(optimizer=\"adam\", loss=\"mse\")\n",
        "\n",
        "model_cnn.summary()\n",
        "\n",
        "history_cnn = model_cnn.fit(train_X, train_y, validation_data=(val_X, val_y), batch_size=BATCH_SIZE, epochs=EPOCHS, callbacks=[TensorBoard(log_dir=os.path.join(LOG_DIR, name_cnn))])\n",
        "\n",
        "model_cnn.evaluate(test_X, test_y)\n",
        "\n",
        "model_cnn.save(os.path.join(LOG_DIR, name_cnn + \".h5\"))"
      ],
      "execution_count": null,
      "outputs": [
        {
          "output_type": "stream",
          "text": [
            "Model: \"sequential_3\"\n",
            "_________________________________________________________________\n",
            "Layer (type)                 Output Shape              Param #   \n",
            "=================================================================\n",
            "conv1d (Conv1D)              (None, 99, 128)           1920      \n",
            "_________________________________________________________________\n",
            "average_pooling1d (AveragePo (None, 98, 128)           0         \n",
            "_________________________________________________________________\n",
            "conv1d_1 (Conv1D)            (None, 97, 64)            16448     \n",
            "_________________________________________________________________\n",
            "average_pooling1d_1 (Average (None, 96, 64)            0         \n",
            "_________________________________________________________________\n",
            "conv1d_2 (Conv1D)            (None, 95, 32)            4128      \n",
            "_________________________________________________________________\n",
            "average_pooling1d_2 (Average (None, 94, 32)            0         \n",
            "_________________________________________________________________\n",
            "flatten_3 (Flatten)          (None, 3008)              0         \n",
            "_________________________________________________________________\n",
            "dense_9 (Dense)              (None, 256)               770304    \n",
            "_________________________________________________________________\n",
            "dense_10 (Dense)             (None, 1)                 257       \n",
            "=================================================================\n",
            "Total params: 793,057\n",
            "Trainable params: 793,057\n",
            "Non-trainable params: 0\n",
            "_________________________________________________________________\n",
            "Train on 791 samples, validate on 169 samples\n",
            "Epoch 1/20\n",
            "791/791 [==============================] - 2s 2ms/sample - loss: 0.2449 - val_loss: 0.0285\n",
            "Epoch 2/20\n",
            "791/791 [==============================] - 0s 75us/sample - loss: 0.0091 - val_loss: 0.0184\n",
            "Epoch 3/20\n",
            "791/791 [==============================] - 0s 77us/sample - loss: 0.0034 - val_loss: 0.0338\n",
            "Epoch 4/20\n",
            "791/791 [==============================] - 0s 73us/sample - loss: 0.0017 - val_loss: 0.0388\n",
            "Epoch 5/20\n",
            "791/791 [==============================] - 0s 73us/sample - loss: 0.0014 - val_loss: 0.0496\n",
            "Epoch 6/20\n",
            "791/791 [==============================] - 0s 73us/sample - loss: 0.0012 - val_loss: 0.0355\n",
            "Epoch 7/20\n",
            "791/791 [==============================] - 0s 68us/sample - loss: 0.0010 - val_loss: 0.0244\n",
            "Epoch 8/20\n",
            "791/791 [==============================] - 0s 75us/sample - loss: 9.0494e-04 - val_loss: 0.0159\n",
            "Epoch 9/20\n",
            "791/791 [==============================] - 0s 81us/sample - loss: 6.7020e-04 - val_loss: 0.0177\n",
            "Epoch 10/20\n",
            "791/791 [==============================] - 0s 74us/sample - loss: 5.5483e-04 - val_loss: 0.0101\n",
            "Epoch 11/20\n",
            "791/791 [==============================] - 0s 77us/sample - loss: 7.1344e-04 - val_loss: 0.0158\n",
            "Epoch 12/20\n",
            "791/791 [==============================] - 0s 73us/sample - loss: 6.0090e-04 - val_loss: 0.0195\n",
            "Epoch 13/20\n",
            "791/791 [==============================] - 0s 71us/sample - loss: 5.2538e-04 - val_loss: 0.0225\n",
            "Epoch 14/20\n",
            "791/791 [==============================] - 0s 72us/sample - loss: 4.9215e-04 - val_loss: 0.0179\n",
            "Epoch 15/20\n",
            "791/791 [==============================] - 0s 78us/sample - loss: 4.7078e-04 - val_loss: 0.0262\n",
            "Epoch 16/20\n",
            "791/791 [==============================] - 0s 74us/sample - loss: 5.6437e-04 - val_loss: 0.0205\n",
            "Epoch 17/20\n",
            "791/791 [==============================] - 0s 74us/sample - loss: 4.6883e-04 - val_loss: 0.0113\n",
            "Epoch 18/20\n",
            "791/791 [==============================] - 0s 73us/sample - loss: 3.9596e-04 - val_loss: 0.0137\n",
            "Epoch 19/20\n",
            "791/791 [==============================] - 0s 68us/sample - loss: 3.3587e-04 - val_loss: 0.0120\n",
            "Epoch 20/20\n",
            "791/791 [==============================] - 0s 73us/sample - loss: 3.4992e-04 - val_loss: 0.0083\n",
            "170/170 [==============================] - 0s 1ms/sample - loss: 0.0057\n"
          ],
          "name": "stdout"
        }
      ]
    },
    {
      "cell_type": "code",
      "metadata": {
        "id": "W-lLoJ3ClFgl",
        "colab": {
          "base_uri": "https://localhost:8080/",
          "height": 231
        },
        "outputId": "5b10f401-001d-4383-d62b-ed5ef6524622"
      },
      "source": [
        "# visualise model predictions\n",
        "\n",
        "def visualize_predictions(days, actual, models, X, labels):\n",
        "    assert len(models) == len(labels)\n",
        "\n",
        "    plt.plot(days, actual, label=\"Actual Price\")\n",
        "    for i, model in enumerate(models):\n",
        "        plt.plot(days, model.predict(X), label=labels[i])\n",
        "    plt.legend()\n",
        "    plt.show()\n",
        "\n",
        "visualize_predictions(\n",
        "    days=df_tr.index[WINDOW:].values,\n",
        "    actual=y,\n",
        "    models=[model_ffnn, model_lstm, model_gru, model_cnn],\n",
        "    X=X,\n",
        "    labels=[\"FFNN\", \"LSTM\", \"GRU\", \"CNN\"]\n",
        ")"
      ],
      "execution_count": null,
      "outputs": [
        {
          "output_type": "error",
          "ename": "NameError",
          "evalue": "ignored",
          "traceback": [
            "\u001b[0;31m---------------------------------------------------------------------------\u001b[0m",
            "\u001b[0;31mNameError\u001b[0m                                 Traceback (most recent call last)",
            "\u001b[0;32m<ipython-input-7-04d2ad154617>\u001b[0m in \u001b[0;36m<module>\u001b[0;34m()\u001b[0m\n\u001b[1;32m     12\u001b[0m     \u001b[0mdays\u001b[0m\u001b[0;34m=\u001b[0m\u001b[0mdf_tr\u001b[0m\u001b[0;34m.\u001b[0m\u001b[0mindex\u001b[0m\u001b[0;34m[\u001b[0m\u001b[0mWINDOW\u001b[0m\u001b[0;34m:\u001b[0m\u001b[0;34m]\u001b[0m\u001b[0;34m.\u001b[0m\u001b[0mvalues\u001b[0m\u001b[0;34m,\u001b[0m\u001b[0;34m\u001b[0m\u001b[0;34m\u001b[0m\u001b[0m\n\u001b[1;32m     13\u001b[0m     \u001b[0mactual\u001b[0m\u001b[0;34m=\u001b[0m\u001b[0my\u001b[0m\u001b[0;34m,\u001b[0m\u001b[0;34m\u001b[0m\u001b[0;34m\u001b[0m\u001b[0m\n\u001b[0;32m---> 14\u001b[0;31m     \u001b[0mmodels\u001b[0m\u001b[0;34m=\u001b[0m\u001b[0;34m[\u001b[0m\u001b[0mmodel_ffnn\u001b[0m\u001b[0;34m,\u001b[0m \u001b[0mmodel_lstm\u001b[0m\u001b[0;34m,\u001b[0m \u001b[0mmodel_gru\u001b[0m\u001b[0;34m,\u001b[0m \u001b[0mmodel_cnn\u001b[0m\u001b[0;34m]\u001b[0m\u001b[0;34m,\u001b[0m\u001b[0;34m\u001b[0m\u001b[0;34m\u001b[0m\u001b[0m\n\u001b[0m\u001b[1;32m     15\u001b[0m     \u001b[0mX\u001b[0m\u001b[0;34m=\u001b[0m\u001b[0mX\u001b[0m\u001b[0;34m,\u001b[0m\u001b[0;34m\u001b[0m\u001b[0;34m\u001b[0m\u001b[0m\n\u001b[1;32m     16\u001b[0m     \u001b[0mlabels\u001b[0m\u001b[0;34m=\u001b[0m\u001b[0;34m[\u001b[0m\u001b[0;34m\"FFNN\"\u001b[0m\u001b[0;34m,\u001b[0m \u001b[0;34m\"LSTM\"\u001b[0m\u001b[0;34m,\u001b[0m \u001b[0;34m\"GRU\"\u001b[0m\u001b[0;34m,\u001b[0m \u001b[0;34m\"CNN\"\u001b[0m\u001b[0;34m]\u001b[0m\u001b[0;34m\u001b[0m\u001b[0;34m\u001b[0m\u001b[0m\n",
            "\u001b[0;31mNameError\u001b[0m: name 'model_ffnn' is not defined"
          ]
        }
      ]
    },
    {
      "cell_type": "code",
      "metadata": {
        "id": "yc5_p--7nfyY",
        "colab": {
          "base_uri": "https://localhost:8080/",
          "height": 231
        },
        "outputId": "71465688-7eb8-410b-abb1-83a621cf5ffe"
      },
      "source": [
        "# plot model losses and training\n",
        "\n",
        "def plot_losses(histories, labels):\n",
        "    assert len(histories) == len(labels)\n",
        "\n",
        "    ax_loss = plt.subplot2grid(shape=(1, 2), loc=(0, 0))\n",
        "    ax_val_loss = plt.subplot2grid(shape=(1, 2), loc=(0, 1))\n",
        "\n",
        "    for i, history in enumerate(histories):\n",
        "        ax_loss.plot(range(EPOCHS), history.history[\"loss\"], label=labels[i])\n",
        "        ax_val_loss.plot(range(EPOCHS), history.history[\"val_loss\"], label=labels[i])\n",
        "    ax_loss.legend()\n",
        "    ax_val_loss.legend()\n",
        "\n",
        "    plt.show()\n",
        "\n",
        "plot_losses(\n",
        "    histories=[history_ffnn, history_lstm, history_gru, history_cnn],\n",
        "    labels=[\"FFNN\", \"LSTM\", \"GRU\", \"CNN\"]\n",
        ")"
      ],
      "execution_count": null,
      "outputs": [
        {
          "output_type": "error",
          "ename": "NameError",
          "evalue": "ignored",
          "traceback": [
            "\u001b[0;31m---------------------------------------------------------------------------\u001b[0m",
            "\u001b[0;31mNameError\u001b[0m                                 Traceback (most recent call last)",
            "\u001b[0;32m<ipython-input-8-eb59555420c7>\u001b[0m in \u001b[0;36m<module>\u001b[0;34m()\u001b[0m\n\u001b[1;32m     15\u001b[0m \u001b[0;34m\u001b[0m\u001b[0m\n\u001b[1;32m     16\u001b[0m plot_losses(\n\u001b[0;32m---> 17\u001b[0;31m     \u001b[0mhistories\u001b[0m\u001b[0;34m=\u001b[0m\u001b[0;34m[\u001b[0m\u001b[0mhistory_ffnn\u001b[0m\u001b[0;34m,\u001b[0m \u001b[0mhistory_lstm\u001b[0m\u001b[0;34m,\u001b[0m \u001b[0mhistory_gru\u001b[0m\u001b[0;34m,\u001b[0m \u001b[0mhistory_cnn\u001b[0m\u001b[0;34m]\u001b[0m\u001b[0;34m,\u001b[0m\u001b[0;34m\u001b[0m\u001b[0;34m\u001b[0m\u001b[0m\n\u001b[0m\u001b[1;32m     18\u001b[0m     \u001b[0mlabels\u001b[0m\u001b[0;34m=\u001b[0m\u001b[0;34m[\u001b[0m\u001b[0;34m\"FFNN\"\u001b[0m\u001b[0;34m,\u001b[0m \u001b[0;34m\"LSTM\"\u001b[0m\u001b[0;34m,\u001b[0m \u001b[0;34m\"GRU\"\u001b[0m\u001b[0;34m,\u001b[0m \u001b[0;34m\"CNN\"\u001b[0m\u001b[0;34m]\u001b[0m\u001b[0;34m\u001b[0m\u001b[0;34m\u001b[0m\u001b[0m\n\u001b[1;32m     19\u001b[0m )\n",
            "\u001b[0;31mNameError\u001b[0m: name 'history_ffnn' is not defined"
          ]
        }
      ]
    },
    {
      "cell_type": "code",
      "metadata": {
        "id": "lWbx0_JvKVtV",
        "colab": {
          "base_uri": "https://localhost:8080/",
          "height": 717
        },
        "outputId": "61603ad9-f7f0-4256-8df8-95ab1a3fd2ca"
      },
      "source": [
        "# experimenting with different architectures for the lstm\n",
        "\n",
        "lstm_sizes = [256, 512]\n",
        "lstm_layer_nums = [1, 2, 3]\n",
        "dropout_rates = [0, 0.2, 0.4]\n",
        "dense_sizes = [256, 512]\n",
        "\n",
        "for lstm_size in lstm_sizes:\n",
        "    for lstm_layer_num in lstm_layer_nums:\n",
        "        for dropout_rate in dropout_rates:\n",
        "            for dense_size in dense_sizes:\n",
        "                name = f\"LSTM-{lstm_size}-{lstm_layer_num}-{dropout_rate}-{dense_size}-{int(time.time())}\"\n",
        "\n",
        "                model = Sequential()\n",
        "\n",
        "                if lstm_layer_num == 1:\n",
        "                    model.add(LSTM(lstm_size, input_shape=(None, train_X.shape[2])))\n",
        "                    model.add(Dropout(dropout_rate))\n",
        "                else:\n",
        "                    model.add(LSTM(lstm_size, return_sequences=True, input_shape=(None, train_X.shape[2])))\n",
        "                    model.add(Dropout(dropout_rate))\n",
        "\n",
        "                    for _ in range(lstm_layer_num - 2):\n",
        "                        model.add(LSTM(lstm_size, return_sequences=True))\n",
        "                        model.add(Dropout(dropout_rate))\n",
        "                    \n",
        "                    model.add(LSTM(lstm_size))\n",
        "                    model.add(Dropout(dropout_rate))\n",
        "                    \n",
        "                model.add(Flatten())\n",
        "\n",
        "                model.add(Dense(dense_size))\n",
        "                model.add(Dropout(dropout_rate))\n",
        "\n",
        "                model.add(Dense(1))\n",
        "\n",
        "                model.compile(optimizer=Adam(lr=0.001, decay=1e-6), loss=\"mse\")\n",
        "\n",
        "                model.fit(\n",
        "                    train_X,\n",
        "                    train_y,\n",
        "                    validation_data=(val_X, val_y),\n",
        "                    batch_size=BATCH_SIZE,\n",
        "                    epochs=EPOCHS,\n",
        "                    callbacks=[TensorBoard(log_dir=os.path.join(LOG_DIR, name))],\n",
        "                    verbose=0\n",
        "                )\n",
        "\n",
        "                loss = model.evaluate(test_X, test_y, verbose=0)\n",
        "                print(name.ljust(37), loss)\n",
        "\n",
        "                model.save(os.path.join(MODEL_DIR, name + \".h5\"))"
      ],
      "execution_count": null,
      "outputs": [
        {
          "output_type": "stream",
          "text": [
            "WARNING:tensorflow:From /usr/local/lib/python3.6/dist-packages/tensorflow/python/ops/init_ops.py:1251: calling VarianceScaling.__init__ (from tensorflow.python.ops.init_ops) with dtype is deprecated and will be removed in a future version.\n",
            "Instructions for updating:\n",
            "Call initializer instance with the dtype argument instead of passing it to the constructor\n",
            "WARNING:tensorflow:Method (on_train_batch_end) is slow compared to the batch update (0.113695). Check your callbacks.\n",
            "LSTM-256-1-0-256-1569067585           0.000771384166471441\n",
            "LSTM-256-1-0-512-1569067602           0.0005244185411891736\n",
            "LSTM-256-1-0.2-256-1569067615         0.0013613891733043333\n",
            "LSTM-256-1-0.2-512-1569067627         0.00048368569148485275\n",
            "LSTM-256-1-0.4-256-1569067640         0.0005854476181625882\n",
            "LSTM-256-1-0.4-512-1569067653         0.0004048840252353865\n",
            "LSTM-256-2-0-256-1569067667           0.001741345419877154\n",
            "LSTM-256-2-0-512-1569067694           0.001724570045959862\n",
            "LSTM-256-2-0.2-256-1569067721         0.0017416157424176002\n",
            "LSTM-256-2-0.2-512-1569067750         0.0013493808801285923\n",
            "LSTM-256-2-0.4-256-1569067778         0.0007730655355022892\n",
            "LSTM-256-2-0.4-512-1569067807         0.002853274502901032\n",
            "LSTM-256-3-0-256-1569067836           0.0014699550619458452\n",
            "LSTM-256-3-0-512-1569067880           0.01192138028495452\n",
            "LSTM-256-3-0.2-256-1569067924         0.001133636458133183\n",
            "LSTM-256-3-0.2-512-1569067969         0.0015488734078483984\n",
            "LSTM-256-3-0.4-256-1569068016         0.0012772853999836917\n",
            "LSTM-256-3-0.4-512-1569068062         0.0011163409022093916\n",
            "LSTM-512-1-0-256-1569068110           0.0005519506833105184\n",
            "LSTM-512-1-0-512-1569068138           0.0003458335901514682\n",
            "LSTM-512-1-0.2-256-1569068167         0.0004661964119055911\n",
            "LSTM-512-1-0.2-512-1569068196         0.00044594442160279655\n",
            "LSTM-512-1-0.4-256-1569068227         0.000499082130023881\n",
            "LSTM-512-1-0.4-512-1569068257         0.0004734005162711529\n",
            "LSTM-512-2-0-256-1569068287           0.0007059807084528182\n",
            "LSTM-512-2-0-512-1569068345           0.0006991481048958923\n",
            "LSTM-512-2-0.2-256-1569068404         0.000888560847242308\n",
            "LSTM-512-2-0.2-512-1569068464         0.004082041272126576\n",
            "LSTM-512-2-0.4-256-1569068524         0.0011935651382801178\n",
            "LSTM-512-2-0.4-512-1569068585         0.0007682317196775008\n",
            "LSTM-512-3-0-256-1569068646           0.0011334099481567082\n",
            "LSTM-512-3-0-512-1569068736           0.001307406705831561\n",
            "LSTM-512-3-0.2-256-1569068826         0.0035181937081848872\n",
            "LSTM-512-3-0.2-512-1569068919         0.0013878320275312838\n",
            "LSTM-512-3-0.4-256-1569069012         0.0011858843578546143\n",
            "LSTM-512-3-0.4-512-1569069106         0.0009717383766067488\n"
          ],
          "name": "stdout"
        }
      ]
    },
    {
      "cell_type": "markdown",
      "metadata": {
        "id": "TC46ADzJe6Mj"
      },
      "source": [
        "We will now use tensorboard to compare the models. This notebook was run on google colab to train the models using a hosted gpu server, and hence localtunnel is used to help run tensorboard."
      ]
    },
    {
      "cell_type": "code",
      "metadata": {
        "id": "xcFA_TFMahNh",
        "colab": {
          "base_uri": "https://localhost:8080/",
          "height": 68
        },
        "outputId": "b8f26380-729a-4c8f-e9ae-bc4302fbf0d1"
      },
      "source": [
        "# install localtunnel\n",
        "\n",
        "!npm install -g localtunnel"
      ],
      "execution_count": null,
      "outputs": [
        {
          "output_type": "stream",
          "text": [
            "\u001b[K\u001b[?25h/tools/node/bin/lt -> /tools/node/lib/node_modules/localtunnel/bin/lt.js\n",
            "\u001b[K\u001b[?25h+ localtunnel@2.0.0\n",
            "added 35 packages from 21 contributors in 2.303s\n"
          ],
          "name": "stdout"
        }
      ]
    },
    {
      "cell_type": "code",
      "metadata": {
        "id": "QUCZCdvuXv3V",
        "colab": {
          "base_uri": "https://localhost:8080/",
          "height": 663
        },
        "outputId": "e10b1647-cccb-434e-9344-cbb9dd6bfb87"
      },
      "source": [
        "# tensorboard\n",
        "\n",
        "get_ipython().system_raw(f'tensorboard --logdir {LOG_DIR} --host 0.0.0.0 --port 6006 &')\n",
        "get_ipython().system_raw('lt --port 6006 >> url.txt 2>&1 &')\n",
        "\n",
        "!cat url.txt"
      ],
      "execution_count": null,
      "outputs": [
        {
          "output_type": "stream",
          "text": [
            "your url is: https://ordinary-hound-56.localtunnel.me\n",
            "/tools/node/lib/node_modules/localtunnel/bin/lt.js:81\n",
            "    throw err;\n",
            "    ^\n",
            "\n",
            "Error: connection refused: localtunnel.me:36158 (check your firewall settings)\n",
            "    at Socket.remote.on.err (/tools/node/lib/node_modules/localtunnel/lib/TunnelCluster.js:52:11)\n",
            "    at emitOne (events.js:116:13)\n",
            "    at Socket.emit (events.js:211:7)\n",
            "    at emitErrorNT (internal/streams/destroy.js:64:8)\n",
            "    at _combinedTickCallback (internal/process/next_tick.js:138:11)\n",
            "    at process._tickCallback (internal/process/next_tick.js:180:9)\n",
            "your url is: https://odd-parrot-5.localtunnel.me\n",
            "your url is: https://mean-falcon-4.localtunnel.me\n",
            "/tools/node/lib/node_modules/localtunnel/bin/lt.js:81\n",
            "    throw err;\n",
            "    ^\n",
            "\n",
            "Error: connection refused: localtunnel.me:41770 (check your firewall settings)\n",
            "    at Socket.remote.on.err (/tools/node/lib/node_modules/localtunnel/lib/TunnelCluster.js:52:11)\n",
            "    at emitOne (events.js:116:13)\n",
            "    at Socket.emit (events.js:211:7)\n",
            "    at emitErrorNT (internal/streams/destroy.js:64:8)\n",
            "    at _combinedTickCallback (internal/process/next_tick.js:138:11)\n",
            "    at process._tickCallback (internal/process/next_tick.js:180:9)\n",
            "/tools/node/lib/node_modules/localtunnel/bin/lt.js:81\n",
            "    throw err;\n",
            "    ^\n",
            "\n",
            "Error: connection refused: localtunnel.me:37579 (check your firewall settings)\n",
            "    at Socket.remote.on.err (/tools/node/lib/node_modules/localtunnel/lib/TunnelCluster.js:52:11)\n",
            "    at emitOne (events.js:116:13)\n",
            "    at Socket.emit (events.js:211:7)\n",
            "    at emitErrorNT (internal/streams/destroy.js:64:8)\n",
            "    at _combinedTickCallback (internal/process/next_tick.js:138:11)\n",
            "    at process._tickCallback (internal/process/next_tick.js:180:9)\n",
            "your url is: https://fluffy-chipmunk-54.localtunnel.me\n",
            "your url is: https://mighty-vampirebat-2.localtunnel.me\n"
          ],
          "name": "stdout"
        }
      ]
    },
    {
      "cell_type": "markdown",
      "metadata": {
        "id": "Cgq5EH--cpH7"
      },
      "source": [
        "It is apparent that the model with 256 lstm nodes, 1 lstm layer, a dropout rate of 0.4 and with 512 dense layers produces the best results, with the lowest test and validation losses (0.00042 and 0.00100 respectively)"
      ]
    },
    {
      "cell_type": "code",
      "metadata": {
        "id": "rww-ezVU2COA"
      },
      "source": [
        "BEST_MODEL = os.path.join(MODEL_DIR, \"LSTM-256-1-0.4-512-1568463412.h5\")  # change the model name if the timestamp is different"
      ],
      "execution_count": null,
      "outputs": []
    },
    {
      "cell_type": "code",
      "metadata": {
        "id": "6l6dKu_YzBik"
      },
      "source": [
        "# download the best model\n",
        "\n",
        "from google.colab import files\n",
        "\n",
        "files.download(BEST_MODEL)"
      ],
      "execution_count": null,
      "outputs": []
    },
    {
      "cell_type": "code",
      "metadata": {
        "id": "cQck5cE3gANz"
      },
      "source": [
        "# test the final model on other companies' stocks\n",
        "\n",
        "def test_company(name):\n",
        "    dt = datetime.datetime.now()\n",
        "    df = DataReader(name, \"yahoo\", start=dt-relativedelta(years=5), end=dt)\n",
        "    df_tr = pd.DataFrame(pipeline.fit_transform(df), columns=FEATURE_NAMES)\n",
        "    X, y = split_input_output(df_tr)\n",
        "\n",
        "    model = tf.keras.models.load_model(BEST_MODEL)\n",
        "    model.evaluate(X, y)\n",
        "\n",
        "    visualize_predictions(\n",
        "        days=df_tr.index[WINDOW:].values,\n",
        "        actual=y,\n",
        "        models=[model],\n",
        "        X=X,\n",
        "        labels=[\"LSTM Predictions\"],\n",
        "    )"
      ],
      "execution_count": null,
      "outputs": []
    },
    {
      "cell_type": "code",
      "metadata": {
        "id": "8nfZi2li0KwG",
        "colab": {
          "base_uri": "https://localhost:8080/",
          "height": 286
        },
        "outputId": "0962b506-7eda-49b7-fc1f-20755a0d53e6"
      },
      "source": [
        "# apple stocks\n",
        "\n",
        "test_company(\"AAPL\")"
      ],
      "execution_count": null,
      "outputs": [
        {
          "output_type": "stream",
          "text": [
            "1130/1130 [==============================] - 0s 344us/sample - loss: 4.1550e-04\n"
          ],
          "name": "stdout"
        },
        {
          "output_type": "display_data",
          "data": {
            "image/png": "[encoded data removed]",
            "text/plain": [
              "<Figure size 432x288 with 1 Axes>"
            ]
          },
          "metadata": {
            "tags": []
          }
        }
      ]
    },
    {
      "cell_type": "code",
      "metadata": {
        "id": "V7kGS4d302BA",
        "colab": {
          "base_uri": "https://localhost:8080/",
          "height": 286
        },
        "outputId": "64617164-8f45-4ff6-9977-7c1d3db7b69b"
      },
      "source": [
        "# google stocks\n",
        "\n",
        "test_company(\"GOOGL\")"
      ],
      "execution_count": null,
      "outputs": [
        {
          "output_type": "stream",
          "text": [
            "1130/1130 [==============================] - 0s 372us/sample - loss: 3.9997e-04\n"
          ],
          "name": "stdout"
        },
        {
          "output_type": "display_data",
          "data": {
            "image/png": "[encoded data removed]",
            "text/plain": [
              "<Figure size 432x288 with 1 Axes>"
            ]
          },
          "metadata": {
            "tags": []
          }
        }
      ]
    },
    {
      "cell_type": "code",
      "metadata": {
        "id": "QywhyeJT1LmX",
        "colab": {
          "base_uri": "https://localhost:8080/",
          "height": 286
        },
        "outputId": "3f3311ae-c68a-403b-a3d1-36bc2be8fbdc"
      },
      "source": [
        "# nvidia stocks\n",
        "\n",
        "test_company(\"NVDA\")"
      ],
      "execution_count": null,
      "outputs": [
        {
          "output_type": "stream",
          "text": [
            "1130/1130 [==============================] - 0s 406us/sample - loss: 3.0817e-04\n"
          ],
          "name": "stdout"
        },
        {
          "output_type": "display_data",
          "data": {
            "image/png": "[encoded data removed]",
            "text/plain": [
              "<Figure size 432x288 with 1 Axes>"
            ]
          },
          "metadata": {
            "tags": []
          }
        }
      ]
    },
    {
      "cell_type": "code",
      "metadata": {
        "id": "XtXS63jW7yWS",
        "colab": {
          "base_uri": "https://localhost:8080/",
          "height": 286
        },
        "outputId": "ddee3150-4600-4493-8f59-e25e49707c93"
      },
      "source": [
        "# disney stocks\n",
        "\n",
        "test_company(\"DIS\")"
      ],
      "execution_count": null,
      "outputs": [
        {
          "output_type": "stream",
          "text": [
            "1130/1130 [==============================] - 0s 435us/sample - loss: 8.5428e-04\n"
          ],
          "name": "stdout"
        },
        {
          "output_type": "display_data",
          "data": {
            "image/png": "[encoded data removed]",
            "text/plain": [
              "<Figure size 432x288 with 1 Axes>"
            ]
          },
          "metadata": {
            "tags": []
          }
        }
      ]
    },
    {
      "cell_type": "code",
      "metadata": {
        "id": "xY-ZFTju93lD",
        "colab": {
          "base_uri": "https://localhost:8080/",
          "height": 286
        },
        "outputId": "44951241-e2e7-4a59-ff52-c8339ae95a7b"
      },
      "source": [
        "# dbs stocks\n",
        "\n",
        "test_company(\"D05.SI\")"
      ],
      "execution_count": null,
      "outputs": [
        {
          "output_type": "stream",
          "text": [
            "1125/1125 [==============================] - 1s 454us/sample - loss: 3.0266e-04\n"
          ],
          "name": "stdout"
        },
        {
          "output_type": "display_data",
          "data": {
            "image/png": "[encoded data removed]",
            "text/plain": [
              "<Figure size 432x288 with 1 Axes>"
            ]
          },
          "metadata": {
            "tags": []
          }
        }
      ]
    },
    {
      "cell_type": "markdown",
      "metadata": {
        "id": "9mJe0X7q83mR"
      },
      "source": [
        "It is apparent that the model generates accurate predictions even for the stock prices of other companies it was not trained on."
      ]
    },
    {
      "cell_type": "code",
      "metadata": {
        "id": "2PkmggXP8Gax"
      },
      "source": [
        "# get the actual price and predictions\n",
        "\n",
        "def unscale_price(data, feature=\"Open\"):\n",
        "    \"\"\"data is a 1-D array of opening prices\"\"\"\n",
        "    scaler = pipeline.named_steps[\"scaler\"]\n",
        "    scaler_copy = MinMaxScaler()\n",
        "    col_no = FEATURE_NAMES.index(feature)\n",
        "    scaler_copy.min_, scaler_copy.scale_ = scaler.min_[col_no], scaler.scale_[col_no]\n",
        "    return scaler_copy.inverse_transform(data)\n",
        "\n",
        "def test_company_table(name):\n",
        "    dt = datetime.datetime.now()\n",
        "    df = DataReader(name, \"yahoo\", start=dt-relativedelta(years=5), end=dt)\n",
        "    df_tr = pd.DataFrame(pipeline.fit_transform(df), columns=FEATURE_NAMES)\n",
        "    X, y = split_input_output(df_tr)\n",
        "\n",
        "    model = tf.keras.models.load_model(BEST_MODEL)  # change the model name if the timestamp is different\n",
        "    predictions_unscaled = unscale_price(model.predict(X)).flatten()\n",
        "    actual_unscaled = unscale_price(y).flatten()\n",
        "\n",
        "    table = pd.DataFrame({\"Date\": df.index[WINDOW + 29:].values, \"Predicted\": predictions_unscaled, \"Actual\": actual_unscaled})\n",
        "    table.set_index(\"Date\", inplace=True)\n",
        "    return table"
      ],
      "execution_count": null,
      "outputs": []
    },
    {
      "cell_type": "code",
      "metadata": {
        "id": "aMiI3Dq-3kOm",
        "colab": {
          "base_uri": "https://localhost:8080/",
          "height": 235
        },
        "outputId": "91f45734-b7df-4717-99d3-76ba7db70762"
      },
      "source": [
        "nflx_table = test_company_table(\"NFLX\")\n",
        "nflx_table.head()"
      ],
      "execution_count": null,
      "outputs": [
        {
          "output_type": "execute_result",
          "data": {
            "text/html": [
              "<div>\n",
              "<style scoped>\n",
              "    .dataframe tbody tr th:only-of-type {\n",
              "        vertical-align: middle;\n",
              "    }\n",
              "\n",
              "    .dataframe tbody tr th {\n",
              "        vertical-align: top;\n",
              "    }\n",
              "\n",
              "    .dataframe thead th {\n",
              "        text-align: right;\n",
              "    }\n",
              "</style>\n",
              "<table border=\"1\" class=\"dataframe\">\n",
              "  <thead>\n",
              "    <tr style=\"text-align: right;\">\n",
              "      <th></th>\n",
              "      <th>Predicted</th>\n",
              "      <th>Actual</th>\n",
              "    </tr>\n",
              "    <tr>\n",
              "      <th>Date</th>\n",
              "      <th></th>\n",
              "      <th></th>\n",
              "    </tr>\n",
              "  </thead>\n",
              "  <tbody>\n",
              "    <tr>\n",
              "      <th>2015-03-27</th>\n",
              "      <td>58.167995</td>\n",
              "      <td>59.330002</td>\n",
              "    </tr>\n",
              "    <tr>\n",
              "      <th>2015-03-30</th>\n",
              "      <td>57.471416</td>\n",
              "      <td>59.715714</td>\n",
              "    </tr>\n",
              "    <tr>\n",
              "      <th>2015-03-31</th>\n",
              "      <td>57.224842</td>\n",
              "      <td>60.110001</td>\n",
              "    </tr>\n",
              "    <tr>\n",
              "      <th>2015-04-01</th>\n",
              "      <td>57.108532</td>\n",
              "      <td>59.642857</td>\n",
              "    </tr>\n",
              "    <tr>\n",
              "      <th>2015-04-02</th>\n",
              "      <td>56.827667</td>\n",
              "      <td>59.071430</td>\n",
              "    </tr>\n",
              "  </tbody>\n",
              "</table>\n",
              "</div>"
            ],
            "text/plain": [
              "            Predicted     Actual\n",
              "Date                            \n",
              "2015-03-27  58.167995  59.330002\n",
              "2015-03-30  57.471416  59.715714\n",
              "2015-03-31  57.224842  60.110001\n",
              "2015-04-01  57.108532  59.642857\n",
              "2015-04-02  56.827667  59.071430"
            ]
          },
          "metadata": {
            "tags": []
          },
          "execution_count": 26
        }
      ]
    },
    {
      "cell_type": "code",
      "metadata": {
        "id": "vgc2i_ldRoBt",
        "colab": {
          "base_uri": "https://localhost:8080/",
          "height": 34
        },
        "outputId": "2dbe2c69-007b-46ac-eb9c-dc4880e1e6ed"
      },
      "source": [
        "# mean absolute error\n",
        "\n",
        "np.mean(np.abs(nflx_table[\"Predicted\"] - nflx_table[\"Actual\"]))"
      ],
      "execution_count": null,
      "outputs": [
        {
          "output_type": "execute_result",
          "data": {
            "text/plain": [
              "6.5992601824801005"
            ]
          },
          "metadata": {
            "tags": []
          },
          "execution_count": 27
        }
      ]
    },
    {
      "cell_type": "markdown",
      "metadata": {
        "id": "Nm1ky2DwLkd0"
      },
      "source": [
        "As you can see, the actual error of the model in terms of money is around 20 cents, which is too high and not practical in stock trading.\n",
        "\n",
        "However, predicting the range of prices for that day (the high and low prices) would be more useful as valuable information can still be obtained even if those predictions are not accurate.\n",
        "\n",
        "We will now modify the lstm model to predict the highest and lowest prices of the day. A separate model will be trained for each feature."
      ]
    },
    {
      "cell_type": "code",
      "metadata": {
        "id": "nOdbjloaGJYz",
        "colab": {
          "base_uri": "https://localhost:8080/",
          "height": 983
        },
        "outputId": "701b7f79-3495-4bb5-d4c3-0d631f1f7578"
      },
      "source": [
        "# model to predict day high\n",
        "\n",
        "X, y = split_input_output(df_tr, target_feature=\"High\")\n",
        "train_X, train_y, val_X, val_y, test_X, test_y = split_train_val_test(X, y)\n",
        "\n",
        "model_high = Sequential([\n",
        "    LSTM(256, input_shape=(None, train_X.shape[2])),\n",
        "    Dropout(0.4),\n",
        "\n",
        "    Flatten(),\n",
        "\n",
        "    Dense(512),\n",
        "    Dropout(0.4),\n",
        "\n",
        "    Dense(1)\n",
        "])\n",
        "model_high.compile(optimizer=Adam(lr=0.001, decay=1e-6), loss=\"mse\")\n",
        "\n",
        "model_high.fit(train_X, train_y, validation_data=(val_X, val_y), batch_size=BATCH_SIZE, epochs=EPOCHS)\n",
        "\n",
        "model_high.evaluate(test_X, test_y)\n",
        "\n",
        "model_high.save(os.path.join(MODEL_DIR, \"LSTM-high.h5\"))\n",
        "\n",
        "# plot predictions\n",
        "\n",
        "visualize_predictions(\n",
        "    days=df_tr.index[WINDOW:].values,\n",
        "    actual=y,\n",
        "    models=[model_high],\n",
        "    X=X,\n",
        "    labels=[\"LSTM\"]\n",
        ")"
      ],
      "execution_count": null,
      "outputs": [
        {
          "output_type": "stream",
          "text": [
            "Train on 791 samples, validate on 169 samples\n",
            "Epoch 1/20\n",
            "791/791 [==============================] - 1s 1ms/sample - loss: 0.0159 - val_loss: 0.0018\n",
            "Epoch 2/20\n",
            "791/791 [==============================] - 0s 229us/sample - loss: 0.0031 - val_loss: 0.0041\n",
            "Epoch 3/20\n",
            "791/791 [==============================] - 0s 203us/sample - loss: 0.0018 - val_loss: 0.0022\n",
            "Epoch 4/20\n",
            "791/791 [==============================] - 0s 208us/sample - loss: 0.0013 - val_loss: 0.0016\n",
            "Epoch 5/20\n",
            "791/791 [==============================] - 0s 203us/sample - loss: 0.0012 - val_loss: 0.0018\n",
            "Epoch 6/20\n",
            "791/791 [==============================] - 0s 202us/sample - loss: 9.1537e-04 - val_loss: 0.0014\n",
            "Epoch 7/20\n",
            "791/791 [==============================] - 0s 204us/sample - loss: 9.9727e-04 - val_loss: 0.0014\n",
            "Epoch 8/20\n",
            "791/791 [==============================] - 0s 205us/sample - loss: 9.8865e-04 - val_loss: 0.0013\n",
            "Epoch 9/20\n",
            "791/791 [==============================] - 0s 202us/sample - loss: 9.5909e-04 - val_loss: 0.0031\n",
            "Epoch 10/20\n",
            "791/791 [==============================] - 0s 213us/sample - loss: 0.0011 - val_loss: 0.0020\n",
            "Epoch 11/20\n",
            "791/791 [==============================] - 0s 204us/sample - loss: 9.3523e-04 - val_loss: 0.0011\n",
            "Epoch 12/20\n",
            "791/791 [==============================] - 0s 215us/sample - loss: 8.1261e-04 - val_loss: 0.0018\n",
            "Epoch 13/20\n",
            "791/791 [==============================] - 0s 204us/sample - loss: 6.9173e-04 - val_loss: 0.0012\n",
            "Epoch 14/20\n",
            "791/791 [==============================] - 0s 203us/sample - loss: 8.7234e-04 - val_loss: 0.0011\n",
            "Epoch 15/20\n",
            "791/791 [==============================] - 0s 207us/sample - loss: 7.6112e-04 - val_loss: 0.0019\n",
            "Epoch 16/20\n",
            "791/791 [==============================] - 0s 201us/sample - loss: 7.3311e-04 - val_loss: 0.0014\n",
            "Epoch 17/20\n",
            "791/791 [==============================] - 0s 204us/sample - loss: 6.4047e-04 - val_loss: 0.0020\n",
            "Epoch 18/20\n",
            "791/791 [==============================] - 0s 204us/sample - loss: 8.0069e-04 - val_loss: 9.5259e-04\n",
            "Epoch 19/20\n",
            "791/791 [==============================] - 0s 207us/sample - loss: 7.0957e-04 - val_loss: 0.0016\n",
            "Epoch 20/20\n",
            "791/791 [==============================] - 0s 206us/sample - loss: 6.9054e-04 - val_loss: 9.5337e-04\n",
            "170/170 [==============================] - 0s 130us/sample - loss: 5.1280e-04\n"
          ],
          "name": "stdout"
        },
        {
          "output_type": "display_data",
          "data": {
            "image/png": "[encoded data removed]",
            "text/plain": [
              "<Figure size 432x288 with 1 Axes>"
            ]
          },
          "metadata": {
            "tags": []
          }
        }
      ]
    },
    {
      "cell_type": "code",
      "metadata": {
        "id": "wTpMwh6-QIcf",
        "colab": {
          "base_uri": "https://localhost:8080/",
          "height": 983
        },
        "outputId": "1c7a14fa-f9d4-4635-f483-f814b574da29"
      },
      "source": [
        "# model to predict day low\n",
        "\n",
        "X, y = split_input_output(df_tr, target_feature=\"Low\")\n",
        "train_X, train_y, val_X, val_y, test_X, test_y = split_train_val_test(X, y)\n",
        "\n",
        "model_low = Sequential([\n",
        "    LSTM(256, input_shape=(None, train_X.shape[2])),\n",
        "    Dropout(0.4),\n",
        "\n",
        "    Flatten(),\n",
        "\n",
        "    Dense(512),\n",
        "    Dropout(0.4),\n",
        "\n",
        "    Dense(1)\n",
        "])\n",
        "model_low.compile(optimizer=Adam(lr=0.001, decay=1e-6), loss=\"mse\")\n",
        "\n",
        "model_low.fit(train_X, train_y, validation_data=(val_X, val_y), batch_size=BATCH_SIZE, epochs=EPOCHS)\n",
        "\n",
        "model_low.evaluate(test_X, test_y)\n",
        "\n",
        "model_low.save(os.path.join(MODEL_DIR, \"LSTM-low.h5\"))\n",
        "\n",
        "# plot predictions\n",
        "\n",
        "visualize_predictions(\n",
        "    days=df_tr.index[WINDOW:].values,\n",
        "    actual=y,\n",
        "    models=[model_low],\n",
        "    X=X,\n",
        "    labels=[\"LSTM\"]\n",
        ")"
      ],
      "execution_count": null,
      "outputs": [
        {
          "output_type": "stream",
          "text": [
            "Train on 791 samples, validate on 169 samples\n",
            "Epoch 1/20\n",
            "791/791 [==============================] - 1s 2ms/sample - loss: 0.0231 - val_loss: 0.0217\n",
            "Epoch 2/20\n",
            "791/791 [==============================] - 0s 246us/sample - loss: 0.0035 - val_loss: 0.0108\n",
            "Epoch 3/20\n",
            "791/791 [==============================] - 0s 227us/sample - loss: 0.0020 - val_loss: 0.0030\n",
            "Epoch 4/20\n",
            "791/791 [==============================] - 0s 204us/sample - loss: 0.0016 - val_loss: 0.0020\n",
            "Epoch 5/20\n",
            "791/791 [==============================] - 0s 205us/sample - loss: 0.0015 - val_loss: 0.0029\n",
            "Epoch 6/20\n",
            "791/791 [==============================] - 0s 202us/sample - loss: 0.0012 - val_loss: 0.0047\n",
            "Epoch 7/20\n",
            "791/791 [==============================] - 0s 204us/sample - loss: 0.0014 - val_loss: 0.0025\n",
            "Epoch 8/20\n",
            "791/791 [==============================] - 0s 207us/sample - loss: 0.0011 - val_loss: 0.0017\n",
            "Epoch 9/20\n",
            "791/791 [==============================] - 0s 205us/sample - loss: 0.0012 - val_loss: 0.0020\n",
            "Epoch 10/20\n",
            "791/791 [==============================] - 0s 203us/sample - loss: 0.0010 - val_loss: 0.0027\n",
            "Epoch 11/20\n",
            "791/791 [==============================] - 0s 207us/sample - loss: 9.1126e-04 - val_loss: 0.0027\n",
            "Epoch 12/20\n",
            "791/791 [==============================] - 0s 204us/sample - loss: 9.6085e-04 - val_loss: 0.0016\n",
            "Epoch 13/20\n",
            "791/791 [==============================] - 0s 207us/sample - loss: 7.7065e-04 - val_loss: 0.0015\n",
            "Epoch 14/20\n",
            "791/791 [==============================] - 0s 203us/sample - loss: 0.0010 - val_loss: 0.0023\n",
            "Epoch 15/20\n",
            "791/791 [==============================] - 0s 206us/sample - loss: 7.8661e-04 - val_loss: 0.0019\n",
            "Epoch 16/20\n",
            "791/791 [==============================] - 0s 206us/sample - loss: 0.0011 - val_loss: 0.0016\n",
            "Epoch 17/20\n",
            "791/791 [==============================] - 0s 217us/sample - loss: 9.0151e-04 - val_loss: 0.0036\n",
            "Epoch 18/20\n",
            "791/791 [==============================] - 0s 207us/sample - loss: 8.1273e-04 - val_loss: 0.0021\n",
            "Epoch 19/20\n",
            "791/791 [==============================] - 0s 207us/sample - loss: 9.1088e-04 - val_loss: 0.0015\n",
            "Epoch 20/20\n",
            "791/791 [==============================] - 0s 205us/sample - loss: 8.1074e-04 - val_loss: 0.0015\n",
            "170/170 [==============================] - 0s 141us/sample - loss: 7.2225e-04\n"
          ],
          "name": "stdout"
        },
        {
          "output_type": "display_data",
          "data": {
            "image/png": "[encoded data removed]",
            "text/plain": [
              "<Figure size 432x288 with 1 Axes>"
            ]
          },
          "metadata": {
            "tags": []
          }
        }
      ]
    },
    {
      "cell_type": "code",
      "metadata": {
        "id": "BaTvkxXOMFhA",
        "colab": {
          "base_uri": "https://localhost:8080/",
          "height": 269
        },
        "outputId": "10351226-474c-4e0b-e676-ab65f047dfc7"
      },
      "source": [
        "plt.plot(df_tr.index[WINDOW:].values, model_high.predict(X), label=\"Predicted high\")\n",
        "plt.plot(df_tr.index[WINDOW:].values, model_low.predict(X), label=\"Predicted low\")\n",
        "plt.legend()\n",
        "plt.show()"
      ],
      "execution_count": null,
      "outputs": [
        {
          "output_type": "display_data",
          "data": {
            "image/png": "[encoded data removed]",
            "text/plain": [
              "<Figure size 432x288 with 1 Axes>"
            ]
          },
          "metadata": {
            "tags": []
          }
        }
      ]
    },
    {
      "cell_type": "code",
      "metadata": {
        "id": "tdSLRS_V6Y5G",
        "colab": {
          "base_uri": "https://localhost:8080/",
          "height": 1000
        },
        "outputId": "bfb0b68b-38f9-4b64-a500-c1a8c6a6ebc0"
      },
      "source": [
        "# model to predict the high and low of the next 10 days\n",
        "# the number of output neurons is now 20, which may affect the accuracy of the model\n",
        "\n",
        "NEXT = 10\n",
        "\n",
        "X = np.array([df_tr.iloc[i : i + WINDOW, :].values for i in range(len(df_tr) - WINDOW - NEXT)])\n",
        "y = np.array([df_tr.loc[i + WINDOW : i + WINDOW + NEXT - 1, [\"High\", \"Low\"]].values for i in range(len(df_tr) - WINDOW - NEXT)])\n",
        "\n",
        "print(X[:5])\n",
        "print(y[:5])"
      ],
      "execution_count": null,
      "outputs": [
        {
          "output_type": "stream",
          "text": [
            "[[[0.0251502  0.02657588 0.02536826 ... 0.18325192 0.02020532 0.03548474]\n",
            "  [0.02581434 0.02700677 0.02872307 ... 0.15517288 0.02136674 0.03473482]\n",
            "  [0.02267579 0.02454561 0.02632569 ... 0.09499381 0.02203479 0.0338918 ]\n",
            "  ...\n",
            "  [0.04333636 0.0435905  0.04191442 ... 0.14844398 0.04105003 0.0496866 ]\n",
            "  [0.04225476 0.04121474 0.04603291 ... 0.19474343 0.04031633 0.04924247]\n",
            "  [0.03629264 0.03889333 0.0379061  ... 0.14018425 0.0391203  0.04873724]]\n",
            "\n",
            " [[0.02581434 0.02700677 0.02872307 ... 0.15517288 0.02136674 0.03473482]\n",
            "  [0.02267579 0.02454561 0.02632569 ... 0.09499381 0.02203479 0.0338918 ]\n",
            "  [0.0228997  0.02362171 0.02582798 ... 0.11692226 0.02226277 0.03292381]\n",
            "  ...\n",
            "  [0.04225476 0.04121474 0.04603291 ... 0.19474343 0.04031633 0.04924247]\n",
            "  [0.03629264 0.03889333 0.0379061  ... 0.14018425 0.0391203  0.04873724]\n",
            "  [0.03469869 0.03667285 0.03711205 ... 0.13836765 0.0381801  0.04815849]]\n",
            "\n",
            " [[0.02267579 0.02454561 0.02632569 ... 0.09499381 0.02203479 0.0338918 ]\n",
            "  [0.0228997  0.02362171 0.02582798 ... 0.11692226 0.02226277 0.03292381]\n",
            "  [0.02194712 0.02399437 0.02293667 ... 0.08140674 0.02227312 0.03209361]\n",
            "  ...\n",
            "  [0.03629264 0.03889333 0.0379061  ... 0.14018425 0.0391203  0.04873724]\n",
            "  [0.03469869 0.03667285 0.03711205 ... 0.13836765 0.0381801  0.04815849]\n",
            "  [0.03660383 0.03882345 0.03813786 ... 0.11329587 0.03820397 0.04755808]]\n",
            "\n",
            " [[0.0228997  0.02362171 0.02582798 ... 0.11692226 0.02226277 0.03292381]\n",
            "  [0.02194712 0.02399437 0.02293667 ... 0.08140674 0.02227312 0.03209361]\n",
            "  [0.02191676 0.02475136 0.02500351 ... 0.07471867 0.0222389  0.03120273]\n",
            "  ...\n",
            "  [0.03469869 0.03667285 0.03711205 ... 0.13836765 0.0381801  0.04815849]\n",
            "  [0.03660383 0.03882345 0.03813786 ... 0.11329587 0.03820397 0.04755808]\n",
            "  [0.03622052 0.0390719  0.03918649 ... 0.12278028 0.03813116 0.04682333]]\n",
            "\n",
            " [[0.02194712 0.02399437 0.02293667 ... 0.08140674 0.02227312 0.03209361]\n",
            "  [0.02191676 0.02475136 0.02500351 ... 0.07471867 0.0222389  0.03120273]\n",
            "  [0.02351071 0.0246349  0.02483635 ... 0.07867844 0.02255204 0.03034357]\n",
            "  ...\n",
            "  [0.03660383 0.03882345 0.03813786 ... 0.11329587 0.03820397 0.04755808]\n",
            "  [0.03622052 0.0390719  0.03918649 ... 0.12278028 0.03813116 0.04682333]\n",
            "  [0.0345355  0.03702611 0.0379441  ... 0.12658357 0.03773327 0.045969  ]]]\n",
            "[[[0.03469869 0.03667285]\n",
            "  [0.03660383 0.03882345]\n",
            "  [0.03622052 0.0390719 ]\n",
            "  [0.0345355  0.03702611]\n",
            "  [0.03406111 0.037457  ]\n",
            "  [0.03629264 0.03637782]\n",
            "  [0.03735906 0.04066739]\n",
            "  [0.04335913 0.04376906]\n",
            "  [0.04343504 0.04629622]\n",
            "  [0.04837626 0.05127678]]\n",
            "\n",
            " [[0.03660383 0.03882345]\n",
            "  [0.03622052 0.0390719 ]\n",
            "  [0.0345355  0.03702611]\n",
            "  [0.03406111 0.037457  ]\n",
            "  [0.03629264 0.03637782]\n",
            "  [0.03735906 0.04066739]\n",
            "  [0.04335913 0.04376906]\n",
            "  [0.04343504 0.04629622]\n",
            "  [0.04837626 0.05127678]\n",
            "  [0.05977298 0.0597278 ]]\n",
            "\n",
            " [[0.03622052 0.0390719 ]\n",
            "  [0.0345355  0.03702611]\n",
            "  [0.03406111 0.037457  ]\n",
            "  [0.03629264 0.03637782]\n",
            "  [0.03735906 0.04066739]\n",
            "  [0.04335913 0.04376906]\n",
            "  [0.04343504 0.04629622]\n",
            "  [0.04837626 0.05127678]\n",
            "  [0.05977298 0.0597278 ]\n",
            "  [0.05939348 0.06071768]]\n",
            "\n",
            " [[0.0345355  0.03702611]\n",
            "  [0.03406111 0.037457  ]\n",
            "  [0.03629264 0.03637782]\n",
            "  [0.03735906 0.04066739]\n",
            "  [0.04335913 0.04376906]\n",
            "  [0.04343504 0.04629622]\n",
            "  [0.04837626 0.05127678]\n",
            "  [0.05977298 0.0597278 ]\n",
            "  [0.05939348 0.06071768]\n",
            "  [0.05822837 0.06056242]]\n",
            "\n",
            " [[0.03406111 0.037457  ]\n",
            "  [0.03629264 0.03637782]\n",
            "  [0.03735906 0.04066739]\n",
            "  [0.04335913 0.04376906]\n",
            "  [0.04343504 0.04629622]\n",
            "  [0.04837626 0.05127678]\n",
            "  [0.05977298 0.0597278 ]\n",
            "  [0.05939348 0.06071768]\n",
            "  [0.05822837 0.06056242]\n",
            "  [0.09155702 0.08325246]]]\n"
          ],
          "name": "stdout"
        }
      ]
    },
    {
      "cell_type": "code",
      "metadata": {
        "id": "JnpPtKgpTLt8",
        "colab": {
          "base_uri": "https://localhost:8080/",
          "height": 731
        },
        "outputId": "9a177e2e-0c72-4f08-ab14-3acbcac8e5ee"
      },
      "source": [
        "train_X, train_y, val_X, val_y, test_X, test_y = split_train_val_test(X, y.reshape(y.shape[0], -1))\n",
        "\n",
        "model_next = Sequential([\n",
        "    LSTM(256, input_shape=(None, train_X.shape[2])),\n",
        "    Dropout(0.4),\n",
        "\n",
        "    Flatten(),\n",
        "\n",
        "    Dense(512),\n",
        "    Dropout(0.4),\n",
        "\n",
        "    Dense(NEXT * 2)\n",
        "])\n",
        "\n",
        "model_next.compile(optimizer=Adam(lr=0.001, decay=1e-6), loss=\"mse\")\n",
        "\n",
        "model_next.fit(train_X, train_y, validation_data=(val_X, val_y), batch_size=BATCH_SIZE, epochs=EPOCHS)\n",
        "\n",
        "model_next.evaluate(test_X, test_y)\n",
        "\n",
        "model_next.save(os.path.join(MODEL_DIR, f\"LSTM-next-{NEXT}-high-low.h5\"))"
      ],
      "execution_count": null,
      "outputs": [
        {
          "output_type": "stream",
          "text": [
            "Train on 784 samples, validate on 168 samples\n",
            "Epoch 1/20\n",
            "784/784 [==============================] - 2s 2ms/sample - loss: 0.0217 - val_loss: 0.0083\n",
            "Epoch 2/20\n",
            "784/784 [==============================] - 0s 254us/sample - loss: 0.0051 - val_loss: 0.0070\n",
            "Epoch 3/20\n",
            "784/784 [==============================] - 0s 211us/sample - loss: 0.0037 - val_loss: 0.0051\n",
            "Epoch 4/20\n",
            "784/784 [==============================] - 0s 216us/sample - loss: 0.0030 - val_loss: 0.0050\n",
            "Epoch 5/20\n",
            "784/784 [==============================] - 0s 209us/sample - loss: 0.0028 - val_loss: 0.0049\n",
            "Epoch 6/20\n",
            "784/784 [==============================] - 0s 209us/sample - loss: 0.0026 - val_loss: 0.0049\n",
            "Epoch 7/20\n",
            "784/784 [==============================] - 0s 212us/sample - loss: 0.0023 - val_loss: 0.0049\n",
            "Epoch 8/20\n",
            "784/784 [==============================] - 0s 215us/sample - loss: 0.0022 - val_loss: 0.0049\n",
            "Epoch 9/20\n",
            "784/784 [==============================] - 0s 215us/sample - loss: 0.0022 - val_loss: 0.0048\n",
            "Epoch 10/20\n",
            "784/784 [==============================] - 0s 216us/sample - loss: 0.0021 - val_loss: 0.0047\n",
            "Epoch 11/20\n",
            "784/784 [==============================] - 0s 208us/sample - loss: 0.0020 - val_loss: 0.0051\n",
            "Epoch 12/20\n",
            "784/784 [==============================] - 0s 205us/sample - loss: 0.0019 - val_loss: 0.0047\n",
            "Epoch 13/20\n",
            "784/784 [==============================] - 0s 210us/sample - loss: 0.0019 - val_loss: 0.0051\n",
            "Epoch 14/20\n",
            "784/784 [==============================] - 0s 213us/sample - loss: 0.0017 - val_loss: 0.0053\n",
            "Epoch 15/20\n",
            "784/784 [==============================] - 0s 217us/sample - loss: 0.0018 - val_loss: 0.0099\n",
            "Epoch 16/20\n",
            "784/784 [==============================] - 0s 215us/sample - loss: 0.0018 - val_loss: 0.0052\n",
            "Epoch 17/20\n",
            "784/784 [==============================] - 0s 207us/sample - loss: 0.0016 - val_loss: 0.0046\n",
            "Epoch 18/20\n",
            "784/784 [==============================] - 0s 216us/sample - loss: 0.0015 - val_loss: 0.0058\n",
            "Epoch 19/20\n",
            "784/784 [==============================] - 0s 217us/sample - loss: 0.0018 - val_loss: 0.0047\n",
            "Epoch 20/20\n",
            "784/784 [==============================] - 0s 210us/sample - loss: 0.0018 - val_loss: 0.0056\n",
            "168/168 [==============================] - 0s 135us/sample - loss: 0.0031\n"
          ],
          "name": "stdout"
        }
      ]
    },
    {
      "cell_type": "markdown",
      "metadata": {
        "id": "r7-4NtneFO2j"
      },
      "source": [
        "As you can see, the accuracy of the model is clearly affected due to the higher amount of predictions and hence greater complexity, thus a larger model may be required to make accurate predictions futher into the future."
      ]
    },
    {
      "cell_type": "code",
      "metadata": {
        "id": "lYzOZy28A9u4",
        "colab": {
          "base_uri": "https://localhost:8080/",
          "height": 269
        },
        "outputId": "0c7ffee4-cf98-44bf-c114-f6753482f0fa"
      },
      "source": [
        "predicted = model_next.predict(np.expand_dims(df_tr.iloc[-100:, :].values, axis=0)).flatten()\n",
        "high = predicted[:NEXT]\n",
        "low = predicted[NEXT:]\n",
        "\n",
        "plt.plot(df_tr.index[WINDOW:].values, df_tr[\"High\"][WINDOW:].values, label=\"Actual High\")\n",
        "plt.plot(df_tr.index[WINDOW:].values, df_tr[\"Low\"][WINDOW:].values, label=\"Actual Low\")\n",
        "plt.plot(range(df_tr.index[-1], df_tr.index[-1] + NEXT), high, label=\"Predicted High\")\n",
        "plt.plot(range(df_tr.index[-1], df_tr.index[-1] + NEXT), low, label=\"Predicted Low\")\n",
        "plt.legend()\n",
        "plt.show()"
      ],
      "execution_count": null,
      "outputs": [
        {
          "output_type": "display_data",
          "data": {
            "image/png": "[encoded data removed]",
            "text/plain": [
              "<Figure size 432x288 with 1 Axes>"
            ]
          },
          "metadata": {
            "tags": []
          }
        }
      ]
    },
    {
      "cell_type": "code",
      "metadata": {
        "id": "G3ang3ceCzVg",
        "colab": {
          "base_uri": "https://localhost:8080/",
          "height": 359
        },
        "outputId": "240b14a8-ee9a-4a49-e5d3-5034afc9210c"
      },
      "source": [
        "pipeline.fit(df)\n",
        "high_low_predictions_df = pd.DataFrame({\"High\": unscale_price(np.expand_dims(high, axis=1), feature=\"High\").flatten(),\n",
        "                                        \"Low\": unscale_price(np.expand_dims(low, axis=1), feature=\"Low\").flatten()})\n",
        "high_low_predictions_df"
      ],
      "execution_count": null,
      "outputs": [
        {
          "output_type": "execute_result",
          "data": {
            "text/html": [
              "<div>\n",
              "<style scoped>\n",
              "    .dataframe tbody tr th:only-of-type {\n",
              "        vertical-align: middle;\n",
              "    }\n",
              "\n",
              "    .dataframe tbody tr th {\n",
              "        vertical-align: top;\n",
              "    }\n",
              "\n",
              "    .dataframe thead th {\n",
              "        text-align: right;\n",
              "    }\n",
              "</style>\n",
              "<table border=\"1\" class=\"dataframe\">\n",
              "  <thead>\n",
              "    <tr style=\"text-align: right;\">\n",
              "      <th></th>\n",
              "      <th>High</th>\n",
              "      <th>Low</th>\n",
              "    </tr>\n",
              "  </thead>\n",
              "  <tbody>\n",
              "    <tr>\n",
              "      <th>0</th>\n",
              "      <td>302.169800</td>\n",
              "      <td>293.899261</td>\n",
              "    </tr>\n",
              "    <tr>\n",
              "      <th>1</th>\n",
              "      <td>296.907776</td>\n",
              "      <td>293.083130</td>\n",
              "    </tr>\n",
              "    <tr>\n",
              "      <th>2</th>\n",
              "      <td>292.739288</td>\n",
              "      <td>295.500458</td>\n",
              "    </tr>\n",
              "    <tr>\n",
              "      <th>3</th>\n",
              "      <td>296.282959</td>\n",
              "      <td>294.505859</td>\n",
              "    </tr>\n",
              "    <tr>\n",
              "      <th>4</th>\n",
              "      <td>303.337860</td>\n",
              "      <td>294.262360</td>\n",
              "    </tr>\n",
              "    <tr>\n",
              "      <th>5</th>\n",
              "      <td>299.599915</td>\n",
              "      <td>291.348450</td>\n",
              "    </tr>\n",
              "    <tr>\n",
              "      <th>6</th>\n",
              "      <td>300.364197</td>\n",
              "      <td>297.488983</td>\n",
              "    </tr>\n",
              "    <tr>\n",
              "      <th>7</th>\n",
              "      <td>297.884888</td>\n",
              "      <td>290.553009</td>\n",
              "    </tr>\n",
              "    <tr>\n",
              "      <th>8</th>\n",
              "      <td>301.414459</td>\n",
              "      <td>296.423737</td>\n",
              "    </tr>\n",
              "    <tr>\n",
              "      <th>9</th>\n",
              "      <td>305.891571</td>\n",
              "      <td>290.927673</td>\n",
              "    </tr>\n",
              "  </tbody>\n",
              "</table>\n",
              "</div>"
            ],
            "text/plain": [
              "         High         Low\n",
              "0  302.169800  293.899261\n",
              "1  296.907776  293.083130\n",
              "2  292.739288  295.500458\n",
              "3  296.282959  294.505859\n",
              "4  303.337860  294.262360\n",
              "5  299.599915  291.348450\n",
              "6  300.364197  297.488983\n",
              "7  297.884888  290.553009\n",
              "8  301.414459  296.423737\n",
              "9  305.891571  290.927673"
            ]
          },
          "metadata": {
            "tags": []
          },
          "execution_count": 27
        }
      ]
    },
    {
      "cell_type": "code",
      "metadata": {
        "id": "UBDZsV6JHUCM",
        "colab": {
          "base_uri": "https://localhost:8080/",
          "height": 34
        },
        "outputId": "c1a1fe5f-90df-40fd-c2a0-3e851980a576"
      },
      "source": [
        "# predict the next day's opening price\n",
        "\n",
        "model_lstm = tf.keras.models.load_model(BEST_MODEL)\n",
        "pipeline.fit(df)\n",
        "unscale_price(model_lstm.predict(np.expand_dims(df_tr.iloc[-100:, :].values, axis=0)))"
      ],
      "execution_count": null,
      "outputs": [
        {
          "output_type": "execute_result",
          "data": {
            "text/plain": [
              "array([[287.181]], dtype=float32)"
            ]
          },
          "metadata": {
            "tags": []
          },
          "execution_count": 32
        }
      ]
    },
    {
      "cell_type": "code",
      "metadata": {
        "id": "7l78tL5oNCuI"
      },
      "source": [
        "# sentiment analysis\n",
        "\n",
        "import tweepy\n",
        "from textblob import TextBlob\n",
        "\n",
        "CONSUMER_KEY = \"\"  # missing; the code therefore cannot run\n",
        "CONSUMER_SECRET = \"\"\n",
        "ACCESS_TOKEN = \"\"\n",
        "ACCESS_TOKEN_SECRET = \"\"\n",
        "auth = tweepy.OAuthHandler(CONSUMER_KEY, CONSUMER_SECRET)\n",
        "auth.set_access_token(ACCESS_TOKEN, ACCESS_TOKEN_SECRET)\n",
        "api = tweepy.API(auth)"
      ],
      "execution_count": null,
      "outputs": []
    },
    {
      "cell_type": "code",
      "metadata": {
        "id": "RCbAYTH9kCBk",
        "colab": {
          "base_uri": "https://localhost:8080/",
          "height": 375
        },
        "outputId": "e2d929fb-f650-4d91-fc6a-ed86b8a555d9"
      },
      "source": [
        "THRESHOLD = 0\n",
        "\n",
        "score = 0\n",
        "\n",
        "public_tweets = api.search(\"Facebook\")\n",
        "for tweet in public_tweets:\n",
        "    analysis = TextBlob(tweet.text)\n",
        "    if analysis.sentiment.polarity >= THRESHOLD:\n",
        "        score += 1\n",
        "    else:\n",
        "        score -= 1\n",
        "\n",
        "score"
      ],
      "execution_count": null,
      "outputs": [
        {
          "output_type": "error",
          "ename": "TweepError",
          "evalue": "ignored",
          "traceback": [
            "\u001b[0;31m---------------------------------------------------------------------------\u001b[0m",
            "\u001b[0;31mTweepError\u001b[0m                                Traceback (most recent call last)",
            "\u001b[0;32m<ipython-input-159-8f57ec5a5a99>\u001b[0m in \u001b[0;36m<module>\u001b[0;34m()\u001b[0m\n\u001b[1;32m      3\u001b[0m \u001b[0mscore\u001b[0m \u001b[0;34m=\u001b[0m \u001b[0;36m0\u001b[0m\u001b[0;34m\u001b[0m\u001b[0;34m\u001b[0m\u001b[0m\n\u001b[1;32m      4\u001b[0m \u001b[0;34m\u001b[0m\u001b[0m\n\u001b[0;32m----> 5\u001b[0;31m \u001b[0mpublic_tweets\u001b[0m \u001b[0;34m=\u001b[0m \u001b[0mapi\u001b[0m\u001b[0;34m.\u001b[0m\u001b[0msearch\u001b[0m\u001b[0;34m(\u001b[0m\u001b[0;34m\"Facebook\"\u001b[0m\u001b[0;34m)\u001b[0m\u001b[0;34m\u001b[0m\u001b[0;34m\u001b[0m\u001b[0m\n\u001b[0m\u001b[1;32m      6\u001b[0m \u001b[0;32mfor\u001b[0m \u001b[0mtweet\u001b[0m \u001b[0;32min\u001b[0m \u001b[0mpublic_tweets\u001b[0m\u001b[0;34m:\u001b[0m\u001b[0;34m\u001b[0m\u001b[0;34m\u001b[0m\u001b[0m\n\u001b[1;32m      7\u001b[0m     \u001b[0manalysis\u001b[0m \u001b[0;34m=\u001b[0m \u001b[0mTextBlob\u001b[0m\u001b[0;34m(\u001b[0m\u001b[0mtweet\u001b[0m\u001b[0;34m.\u001b[0m\u001b[0mtext\u001b[0m\u001b[0;34m)\u001b[0m\u001b[0;34m\u001b[0m\u001b[0;34m\u001b[0m\u001b[0m\n",
            "\u001b[0;32m/usr/local/lib/python3.6/dist-packages/tweepy/binder.py\u001b[0m in \u001b[0;36m_call\u001b[0;34m(*args, **kwargs)\u001b[0m\n\u001b[1;32m    248\u001b[0m             \u001b[0;32mreturn\u001b[0m \u001b[0mmethod\u001b[0m\u001b[0;34m\u001b[0m\u001b[0;34m\u001b[0m\u001b[0m\n\u001b[1;32m    249\u001b[0m         \u001b[0;32melse\u001b[0m\u001b[0;34m:\u001b[0m\u001b[0;34m\u001b[0m\u001b[0;34m\u001b[0m\u001b[0m\n\u001b[0;32m--> 250\u001b[0;31m             \u001b[0;32mreturn\u001b[0m \u001b[0mmethod\u001b[0m\u001b[0;34m.\u001b[0m\u001b[0mexecute\u001b[0m\u001b[0;34m(\u001b[0m\u001b[0;34m)\u001b[0m\u001b[0;34m\u001b[0m\u001b[0;34m\u001b[0m\u001b[0m\n\u001b[0m\u001b[1;32m    251\u001b[0m \u001b[0;34m\u001b[0m\u001b[0m\n\u001b[1;32m    252\u001b[0m     \u001b[0;31m# Set pagination mode\u001b[0m\u001b[0;34m\u001b[0m\u001b[0;34m\u001b[0m\u001b[0;34m\u001b[0m\u001b[0m\n",
            "\u001b[0;32m/usr/local/lib/python3.6/dist-packages/tweepy/binder.py\u001b[0m in \u001b[0;36mexecute\u001b[0;34m(self)\u001b[0m\n\u001b[1;32m    232\u001b[0m                     \u001b[0;32mraise\u001b[0m \u001b[0mRateLimitError\u001b[0m\u001b[0;34m(\u001b[0m\u001b[0merror_msg\u001b[0m\u001b[0;34m,\u001b[0m \u001b[0mresp\u001b[0m\u001b[0;34m)\u001b[0m\u001b[0;34m\u001b[0m\u001b[0;34m\u001b[0m\u001b[0m\n\u001b[1;32m    233\u001b[0m                 \u001b[0;32melse\u001b[0m\u001b[0;34m:\u001b[0m\u001b[0;34m\u001b[0m\u001b[0;34m\u001b[0m\u001b[0m\n\u001b[0;32m--> 234\u001b[0;31m                     \u001b[0;32mraise\u001b[0m \u001b[0mTweepError\u001b[0m\u001b[0;34m(\u001b[0m\u001b[0merror_msg\u001b[0m\u001b[0;34m,\u001b[0m \u001b[0mresp\u001b[0m\u001b[0;34m,\u001b[0m \u001b[0mapi_code\u001b[0m\u001b[0;34m=\u001b[0m\u001b[0mapi_error_code\u001b[0m\u001b[0;34m)\u001b[0m\u001b[0;34m\u001b[0m\u001b[0;34m\u001b[0m\u001b[0m\n\u001b[0m\u001b[1;32m    235\u001b[0m \u001b[0;34m\u001b[0m\u001b[0m\n\u001b[1;32m    236\u001b[0m             \u001b[0;31m# Parse the response payload\u001b[0m\u001b[0;34m\u001b[0m\u001b[0;34m\u001b[0m\u001b[0;34m\u001b[0m\u001b[0m\n",
            "\u001b[0;31mTweepError\u001b[0m: [{'code': 215, 'message': 'Bad Authentication data.'}]"
          ]
        }
      ]
    }
  ]
}